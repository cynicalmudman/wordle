{
 "cells": [
  {
   "cell_type": "code",
   "execution_count": 1,
   "id": "8f40fefd",
   "metadata": {},
   "outputs": [],
   "source": [
    "import numpy as np\n",
    "import pandas as pd\n",
    "import matplotlib.pyplot as plt\n",
    "import random\n",
    "from itertools import compress"
   ]
  },
  {
   "cell_type": "code",
   "execution_count": 29,
   "id": "47ec0bdd",
   "metadata": {},
   "outputs": [],
   "source": [
    "df_words = pd.read_json(\"words.json\", orient=\"index\")\n",
    "total_sol = list(filter(None, list(df_words.loc[\"solutions\"].values)))\n",
    "total_guess = list(filter(None, list(df_words.loc[\"herrings\"].values)))\n",
    "total_guess = total_guess + total_sol"
   ]
  },
  {
   "cell_type": "markdown",
   "id": "e08cd0e2",
   "metadata": {},
   "source": [
    "### Replicating the board"
   ]
  },
  {
   "cell_type": "markdown",
   "id": "0ff3a506",
   "metadata": {},
   "source": [
    "Let's make a function that does what the wordle board does and \"colours\" (using numbers) the squares. To do this we will use 2 = green (correct position), 1 = yellow (correct letter, wrong position), 0 = black (wrong letter).\n",
    "\n",
    "However, we need to understand first some ambiguity  about how you deal with multiple letters. The aim here is to replicate what wordle does, so let's check\n",
    "\n",
    "\n",
    "What happens when you use a double letter in a guess and there is only a single version of that letter in the answer? It's probably not a smart move to use double letters and you generally get less information but clearly the answer may have double letters so it will sometimes be necessary.\n",
    "\n",
    "![slump.png](slump.png \"Experimenting with multiple letters\")\n",
    "\n",
    "Experimenting as above (solution was \"slump\"), the logic seems to be:\n",
    "- loop through all letters checking letter is correct place then colour it green, if you colour green, remove this letter from the set to be checked\n",
    "- loop through **remaining** letters checking letter is in word but not correctly placed and colour it yellow, if you colour yellow, remove from the set to be checked\n",
    "\n",
    "E.g.\n",
    "\n",
    "answer = slump\n",
    "\n",
    "guess = poppy, respose = ybbbb\n",
    "\n",
    "guess = plump, response = bgggg\n",
    "\n",
    "If you guess two of the same letter in a word that has that letter pair but both are in the wrong place I don't know what happens (ideally double yellow).\n",
    "\n",
    "### Function for comparing guess with solution"
   ]
  },
  {
   "cell_type": "code",
   "execution_count": 3,
   "id": "5a3fb71f",
   "metadata": {},
   "outputs": [],
   "source": [
    "def try_word(word, solution):\n",
    "    word_list = [lett for lett in word]\n",
    "    sol_list = [lett for lett in solution]\n",
    "    out_list = [0, 0, 0, 0, 0]\n",
    "    for n in range(len(word_list)):\n",
    "        if word_list[n] == sol_list[n]:\n",
    "            out_list[n] = 2\n",
    "            word_list[n] = \" \"\n",
    "            sol_list[n] = \"_\" #ugly\n",
    "        else:    \n",
    "            out_list[n] = 0\n",
    "\n",
    "    #double loop because that is how the logic appears to work behind the scenes\n",
    "    for n in range(len(word_list)):\n",
    "        if word_list[n] in sol_list:\n",
    "            out_list[n] = 1\n",
    "            sol_list[sol_list.index(word_list[n])] = \"_\"\n",
    "\n",
    "    return out_list\n"
   ]
  },
  {
   "cell_type": "markdown",
   "id": "a8a3974c",
   "metadata": {},
   "source": [
    "Let's run a test to check we get the same as the grid above."
   ]
  },
  {
   "cell_type": "code",
   "execution_count": 4,
   "id": "56c04014",
   "metadata": {},
   "outputs": [
    {
     "name": "stdout",
     "output_type": "stream",
     "text": [
      "[0, 1, 0, 1, 0]\n",
      "[0, 2, 2, 2, 2]\n",
      "[1, 0, 0, 0, 0]\n",
      "[1, 0, 0, 0, 0]\n",
      "[0, 0, 0, 1, 0]\n",
      "[2, 2, 0, 2, 0]\n"
     ]
    }
   ],
   "source": [
    "solution = \"slump\"\n",
    "\n",
    "words_eg = [\"apple\", \"plump\", \"pipet\", \"poppy\", \"chess\", \"slams\"]\n",
    "for word in words_eg:\n",
    "    scores = try_word(word, solution)    \n",
    "    print(scores)"
   ]
  },
  {
   "cell_type": "markdown",
   "id": "4d471f22",
   "metadata": {},
   "source": [
    "We do, so the logic looks ok at least for this small (but carefully selected!) set."
   ]
  },
  {
   "cell_type": "markdown",
   "id": "fe37b6a6",
   "metadata": {},
   "source": [
    "### Expressing current knowledge\n",
    "\n",
    "We need to find a way to store what we know about the possible solutions, and it isn't immediately obvious to me the best way of doing that.\n",
    "\n",
    "A suggestion from the everwise STPR is to just refilter the full list of words each time, which is probably efficient (since you have to do that anyway before making a guess), so let's make a function that takes in a list of words and filters them based on the scoring function above.\n",
    "\n",
    "Input will be \n",
    "* list of numerical scores as above\n",
    "* the assoicated word which gave those scores\n",
    "* the working list of cromulent words\n",
    "\n",
    "Output will be\n",
    "* new shorter list of cromulent words\n",
    "\n",
    "To match how the scoring works we will use the same logic described in \"replicating the board\""
   ]
  },
  {
   "cell_type": "code",
   "execution_count": 5,
   "id": "2a283f8d",
   "metadata": {},
   "outputs": [],
   "source": [
    "#lots of gymnastics to deal with double letters. They are removed from guess and word list to avoid confusion as we go along\n",
    "#ideally this would be much faster, I presume the cost is looping though the word list for every letter of every guess and splitting strings\n",
    "#I'll redo it in pandas later, and optimistically give the function and \"_fast\" suffix\n",
    "#update, I did it in pandas and it is much slower\n",
    "\n",
    "def word_filter(scores, word, word_list_try):\n",
    "    wl = np.array(word_list_try.copy())\n",
    "    wl_work = np.array(wl.copy())\n",
    "    for score,letter,i in zip(scores,word,range(len(scores))):\n",
    "        tf = []\n",
    "        if score == 2:\n",
    "            for w in wl_work:\n",
    "                if w[i] != letter:\n",
    "                    tf.append(False)\n",
    "                else:\n",
    "                    tf.append(True)\n",
    "                    \n",
    "            wl = wl[tf]\n",
    "            wl_work = wl_work[tf]\n",
    "            word = word[:i] + \" \" + word[i+1:]\n",
    "            for w,n in zip(wl_work,range(len(wl_work))):\n",
    "                wl_work[n] = w.replace(letter, \" \", 1)\n",
    "\n",
    "    for score,letter,i in zip(scores,word,range(len(scores))):\n",
    "        if letter == \" \":\n",
    "            continue\n",
    "        tf = []\n",
    "        if score == 1:\n",
    "            for w in wl_work:\n",
    "                fl = w.find(letter)\n",
    "                if fl < 0:\n",
    "                    tf.append(False)\n",
    "                elif fl == i:\n",
    "                    tf.append(False)\n",
    "                else:\n",
    "                    tf.append(True)  \n",
    "            wl = wl[tf]\n",
    "            wl_work = wl_work[tf]\n",
    "            word = word[:i] + \" \" + word[i+1:]\n",
    "            for w,n in zip(wl_work,range(len(wl_work))):\n",
    "                wl_work[n] = w.replace(letter, \" \", 1)\n",
    "   \n",
    "    for score,letter,i in zip(scores,word,range(len(scores))):\n",
    "        if letter == \" \":\n",
    "            continue\n",
    "        tf = []\n",
    "        if score == 0:\n",
    "            for w in wl_work:\n",
    "                if w.find(letter) >= 0:\n",
    "                    tf.append(False)\n",
    "                else:\n",
    "                    tf.append(True)  \n",
    "            wl = wl[tf]\n",
    "            wl_work = wl_work[tf]\n",
    "\n",
    "    return wl    "
   ]
  },
  {
   "cell_type": "markdown",
   "id": "53541ac4",
   "metadata": {},
   "source": [
    "### Let's Play Wordle\n",
    "Below we play wordle n time for a list of words, calculate the xW (expected number of tries for a correct guess) and xW standard deviation. We also plot the histogram."
   ]
  },
  {
   "cell_type": "code",
   "execution_count": 18,
   "id": "8a18735d",
   "metadata": {
    "scrolled": true
   },
   "outputs": [
    {
     "name": "stdout",
     "output_type": "stream",
     "text": [
      "shard 999 505 542 563 642 662 700 719 760 796 857 897\r"
     ]
    },
    {
     "data": {
      "text/html": [
       "<div>\n",
       "<style scoped>\n",
       "    .dataframe tbody tr th:only-of-type {\n",
       "        vertical-align: middle;\n",
       "    }\n",
       "\n",
       "    .dataframe tbody tr th {\n",
       "        vertical-align: top;\n",
       "    }\n",
       "\n",
       "    .dataframe thead th {\n",
       "        text-align: right;\n",
       "    }\n",
       "</style>\n",
       "<table border=\"1\" class=\"dataframe\">\n",
       "  <thead>\n",
       "    <tr style=\"text-align: right;\">\n",
       "      <th></th>\n",
       "      <th>0</th>\n",
       "      <th>1</th>\n",
       "    </tr>\n",
       "  </thead>\n",
       "  <tbody>\n",
       "    <tr>\n",
       "      <th>0</th>\n",
       "      <td>shard</td>\n",
       "      <td>[4, 6, 7, 6, 4, 3, 7, 6, 5, 3, 5, 4, 5, 4, 6, ...</td>\n",
       "    </tr>\n",
       "  </tbody>\n",
       "</table>\n",
       "</div>"
      ],
      "text/plain": [
       "       0                                                  1\n",
       "0  shard  [4, 6, 7, 6, 4, 3, 7, 6, 5, 3, 5, 4, 5, 4, 6, ..."
      ]
     },
     "execution_count": 18,
     "metadata": {},
     "output_type": "execute_result"
    }
   ],
   "source": [
    "#list of words (or use words_master)\n",
    "\n",
    "#active_list = total_sol.copy()\n",
    "active_list = [\"shard\"]\n",
    "\n",
    "#number of runs per word\n",
    "\n",
    "n = 1000\n",
    "\n",
    "counter_list = []\n",
    "\n",
    "for mst_word in active_list[:]:\n",
    "    counter = []\n",
    "\n",
    "    for a in range(n):\n",
    "        print(mst_word, a, end='\\r', flush=False)\n",
    "        words = total_guess\n",
    "        answer = mst_word\n",
    "        guess = random.choices(words)[0]\n",
    "        guess = \"least\"\n",
    "        cnt = 1\n",
    "        while guess != answer:\n",
    "            score = try_word(guess, answer)\n",
    "            words = word_filter(score, guess, words)\n",
    "            guess = random.choices(words)[0]\n",
    "            cnt += 1\n",
    "        counter.append(cnt)\n",
    "    counter_list.append([answer, counter])\n",
    "\n",
    "counter_list\n",
    "df_dat = pd.DataFrame(counter_list)\n",
    "df_dat"
   ]
  },
  {
   "cell_type": "code",
   "execution_count": 19,
   "id": "351becbc",
   "metadata": {},
   "outputs": [
    {
     "name": "stdout",
     "output_type": "stream",
     "text": [
      "xW: 5.04, xW_sd: 1.15\n"
     ]
    }
   ],
   "source": [
    "a = df_dat[1][0]\n",
    "#a = df_dat.loc[df_dat[0] == active_list[0],1]\n",
    "#a = list(a.values)[0]\n",
    "xW, xW_sd = sum(a)/len(a), np.std(a)\n",
    "print(f\"xW: {xW:.2f}, xW_sd: {xW_sd:.2f}\")"
   ]
  },
  {
   "cell_type": "code",
   "execution_count": 20,
   "id": "e2ffe617",
   "metadata": {
    "scrolled": true
   },
   "outputs": [
    {
     "data": {
      "image/png": "[encoded data removed]",
      "text/plain": [
       "<Figure size 432x288 with 1 Axes>"
      ]
     },
     "metadata": {
      "needs_background": "light"
     },
     "output_type": "display_data"
    }
   ],
   "source": [
    "plt.hist(a, bins=np.arange(0.5,10.5))\n",
    "title = \"n = \" + str(n) + \", xW = {xW:.2f}, xW sd = {xW_sd:.2f}\"\n",
    "plt.title(title.format(xW = xW, xW_sd = xW_sd))\n",
    "plt.xlabel(\"guesses to solution\")\n",
    "plt.ylabel(\"count\");"
   ]
  },
  {
   "cell_type": "code",
   "execution_count": 22,
   "id": "ded20010",
   "metadata": {},
   "outputs": [
    {
     "name": "stdout",
     "output_type": "stream",
     "text": [
      "Probability <2 guesses: 0.7%\n"
     ]
    }
   ],
   "source": [
    "print(f\"Probability <2 guesses: {sum([b<3 for b in a])/len(a):.1%}\")"
   ]
  },
  {
   "cell_type": "markdown",
   "id": "61ebadb5",
   "metadata": {},
   "source": [
    "## Appendix\n",
    "\n",
    "### Faster Function!\n",
    "Here is the attempt at a function that runs faster than the one above.  \n",
    "Is it shorter? Yes    \n",
    "Is it prettier? Perhaps     \n",
    "Is it faster? No    "
   ]
  },
  {
   "cell_type": "code",
   "execution_count": 180,
   "id": "72a7744c",
   "metadata": {},
   "outputs": [],
   "source": [
    "def word_filter_fast(scores, word, word_list_try):\n",
    "    cols = [i for i in range(5)]\n",
    "    wl = pd.DataFrame(word_list_try, columns=[\"words\"])\n",
    "    wl[\"list\"] = wl[\"words\"].apply(list)\n",
    "    wl = wl.join(pd.DataFrame(wl[\"list\"].to_list(), columns = cols))\n",
    "     \n",
    "    for score,letter,i in zip(scores,word,range(len(scores))):\n",
    "        if score == 2:\n",
    "            wl = wl[wl[i] == letter]\n",
    "            wl[i] = wl[i].replace(letter, \" \")\n",
    "\n",
    "    for score,letter,i in zip(scores,word,range(len(scores))):\n",
    "        if score == 1:\n",
    "            wl = wl[(wl[cols[:i]+cols[i+1:]] == letter).any(axis = 1)]\n",
    "            wl = wl.where(((wl == letter).cumsum(axis=1).cumsum(axis=1) != 1), \" \")\n",
    "\n",
    "    for score,letter,i in zip(scores,word,range(len(scores))):\n",
    "        if score == 0:\n",
    "            wl = wl[~(wl[cols] == letter).any(axis = 1)]\n",
    "\n",
    "    wl_out = wl[\"words\"].tolist()\n",
    "    return wl_out"
   ]
  },
  {
   "cell_type": "markdown",
   "id": "922dfd6a",
   "metadata": {},
   "source": [
    "### First Word Analysis\n",
    "\n",
    "Below we loop through all words 100 times and print out the first guess and record the number of guesses to get to the answer. This is a lot of data so we save it down in case we want to do more later."
   ]
  },
  {
   "cell_type": "code",
   "execution_count": 680,
   "id": "bc8ee90c",
   "metadata": {},
   "outputs": [
    {
     "name": "stdout",
     "output_type": "stream",
     "text": [
      "inert 22440 67 121 346 890 347 448 489 891 928 953 105 130 163 242 264 316 423 475 701 23 293 672 759 811 847 127 152 192 571 663 673 686 734 991 251 264 308 473 949 42 56 132 390 489 526 564 663 854 991 89 164 350 463 726 824 848 932 87 110 148 208 485 572 715 751 163 177 287 300 536 548 692 919 961 156 550 575 590 804 949 121 277 355 390 415 602 687 800 926 997 47 141 199 364 448 518 647 660 763 790 871 178 204 395 428 553 578 629 750 900 739 125 193 329 414 696 781 105 230 630 718 40 134 160 282 637 800 867 346 417 429 464 946 11 111 749 102 128 142 370 409 509 720 788 274 384 522 681 807 818 975 87 100 114 367 397 476 578 631 320 361 970 38 52 239 349 484 524 676 699 761 862 56 81 280 292 365 417 485 643 687 768 7 397 820 18 456 572 608 696 940 992 49 93 860 171 184 259 311 370 520 531 542 553 603 712 58 153 235 379 449 501 951 86 109 280 305 577 614 649 701 854 880 903 38 62 207 264 324 541 632 815 841 856 431 581 897 908 46 58 67 107 145 477 638 652 170 194 378 687 41 106 480 245 258 707 810 431 442 485 76 86 140 260 394 448 547 602 645 969 23 81 276 903 76 169 234 259 376 429 550 683 60 100 210 225 260 289 485 498 169 304 398 596 828 893 23 36 392 506 517 782 812 825 927 96 181 197 377 470 510 608 621 635 840 11 394 508 582 594 697 856 928 984 22 76 102 160 187 294 347 449 738 780 73 97 231 242 610 861 886 947 190 277 302 331 390 431 567 611 623 699 743 759 840 901 915 999 205 339 431 761 905 918 41 243 256 377 434 449 496 733 893 355 671 713 895 79 142 572 615 718 996 28 220 231 500 808 872 884 895 951 71 81 95 168 336 389 401 548 562 589 677 838 5 56 111 590 649 662 729 851 944 124 140 225 240 346 468 756 172 637 676 710 755 768 932 96 109 169 194 942 955 70 211 223 235 261 356 533 591 688 701 771 786 882 992 18 108 387 410 642 769 881 934 171 297 638 752 817 238 254 283 387 577 605 620 172 287 428 505 666 744 833 983 151 315 541 598 816 862 890 959 264 324 579 633 647 937 265 449 619 645 727 868 241 254 504 598 638 790 827 842 892 492 601 892 393 686 726 795 993 5 241 609 905 62 75 118 427 570 676 739 3 328 463 490 585 610 789 901 47 309 664 891 279 319 351 514 543 612 658 671 769 114 334 347 451 809 858 883 942 208 257 320 398 502 602 734 940 6 18 151 186 296 771 66 607 619 772 9 56 370 412 441 496 568 270 378 427 478 619 666 733 886 913 978 51 177 470 640 958 21 35 61 98 276 565 804 978 3 15 54 122 134 189 529 709 772 784 813 868 924 965 978 58 267 521 594 693 716 730 883 976 142 291 338 378 564 721 747 892 40 468 521 602 740 12 89 116 192 429 441 526 640 777 828 840 9 97 151 559 687 769 806 958 30 232 291 305 484 596 725 795 826 90 284 410 467 977 167 297 552 411 423 466 877 926 77 123 167 182 453 746 814 860 914 941 986 0 10 165 222 348 389 534 689 794 100 408 580 649 695 777 865 941 120 146 185 212 375 401 520 534 558 761 800 947 346 358 442 452 514 894 0 507 630 644 923 45 177 373 386 425 721 736 766 896 345 764 847 40 205 241 362 687 722 131 163 259 287 389 453 481 495 523 566 726 864 49 155 382 409 603 937 167 234 247261 560 741 692 947 566 578 712 783 8 151 636 79 969 508 653 990 299 253 614 115 194 804 381 467 756 938 57 476 619 838 960 997 37 911 687 803 826 872 909 41 111 406 541 802 169 469 523 617 898 965 27 74 88 269 610 768 99 203 214 490 527 542 579 679 717 758 769 789 930 954 969 140 396 468 483 639 663 736 353 687 942 974 99 218 487 789 817 877 397 428 498 511 643 292 338 490 676 250 342 486 712 929 121 135 149 576 651 677 836 861 873 29 140 213 315 499 535 618 712 916 108 177 401 600 782 794 807 133 229 346 359 559 598 706 718 867 934 950 47 111 395 621 633 802 985 72 97 272 361 498 576 692 840 43 69 109 215 519 534 784688 955 206 447 839 506 970 856 910 111 205 255 949 444 458 721 910 60 169 467 597 779906 947 237 45 286 400 464 820 976 988 120 801 76 156 434 473 554 620 824 835 954 980 346 441 507 533 572 695 723 781 808 89 537 857 880 915 51 63 118 162 555 665 716 132 175 278 391 418 128 347 826 350 596 797 822 202 411 767 209 412 439 977 184 256 138 219 644 107 162 879 60 425 501 623 691 807 34 184 433 496 545 907 964 171 186 428 464 647 70 240 292 400 425 634 839 851 937 995 48 110 139 176 215 324 549 578 605 824 837 889 902 928 126 178 215 241 254 310 337 373 401 425 447 791 814 889 914 146 305 481 554 692 903 166 257 485 587 695 939 953 78 115 163 354 379 460 473 615 661 698 723 747 853 887 899 977 89 187 246 607 687 816 70 324 486 498 533 665 714 825 87 953 101 183 349 516 539 670 981 11 160 246 289 314 356 410 449 637 665 678 748 774 889 58 260 356 474 841 6 222 250 347 422 853 240 407 435 559 704 822 32 99 155 167 230 343 452 596 28 264 311 355 384 511 524 615 671 780 919 308 572 585 734 899 20 329 678 998 163 415 522 536 602 667 722 960 199 286 368 518 624 650 674 684 710 763 90 268 293 407 459 489 603 667 729 784 831 955 71 176 488 780 816 877 3 38 234 355 365 397 614 627 808 878 959 988 142 277 317 405 432 664 834 848 964 976 194 352 457 468 558 836 155 217 272 424 519 570 624 637 662 828 950 994 21 437 476 598 691 18 46 118 132 812 874 948 230 244 332 399 415 459 518 674 718 775 946 57 178 243 481 554 580 592 642 858 78 369 383 480 508 673 686 701 729 817 859 971 66 159 467 519 567 593 721 794 29 98 109 168 194 450 464 531 696 711 735 748 824 934 74 269 281 364 378 408 500740 790 192 222 439 531 775 869 897 78 362 375 407 589 614 702 896 38 79 178 336 351 505 581 654 903 917 234 282 626 876 981 8 82 98 250 494 545 595 637 779 896 74 259 283 512 557 797 86 114 199 223 461 637 742 148 317 563 603 225 277 502 731 747 786 839 908 4 100 171 824 958 986 175 355 552 667 751 763 846 917 2 208 280 466 495 512 569 651 906 921 135 279 292 360 375 960 59 87 128 183 242 254 337 396 426 649 884 55 809 887 940 980 993 114 163 438 500 992 122 205 286 407 489 525 652 707 968 51 150 207 280 463 781 824 69 97 242 281 612 720 736 806 832 886 94 122 151 166 302 396 533 547 643 890 976 370 639 655 669 991 3 48 303 519 571 843 885 38 66 316 340 785 17 118 432 695 20 156 275 359 373 816 844 960 973 137 175 345 368 477 509 718 966 185 264 292 482 562 618 827 896 936 48 74 147 182 208 221 492 544 636 794 806 820 916 4 126 234 345 404 455 560 719 941 222 285 393 746 173 249 275 288 775 910 65 78 148 185 263 632 685 825 917 201 338 365 441 491 559 661 730 842 93 183 421 463 691 899 957 24 289 347 386 400 432 455 529 653 688 745 895 949 357 368 509 747 964 18 78 446 527 551 577 633 717 868 916 41 84 110 469 518 547 603 632 961 973 80 205 219 384 462 475 564 673 715 920 933 975 988 53 76 205 466 712 280 412 547 636 708 846 888 898 71 236 281 504 631 866 917 116 226 411 478 605 628 670 887 901 2 97 140 151 290 316 482 528 743 914 939 996 25 270 298 563 639 717 774 787 876 931 24 176 428 543 770 847 4 154 223 295 334 352 418 469 483 521 616 699 729 985 15 42 97 156 252 376 792 807 904 946 90 104 313 396 711 738 762 7 49 80 93 108 396 506 580 705 878 19 67 144 168 314 402 415 442 689 754 884 937 57 275 732 792 148 247 601 613 738 856 914 940 133 266 422 522 535 717 800 952 6 31 100 111 149 176 624 677 839 904 57 272 354 405 447 686 904 41 108 814 872 903 67 274 449 527 684 946 157 192 202 321 440 528 539 658 671 776 926 7 254 266 482 511 614 854 867 909 92 146 278 311 324 437 450 507 873 971 53 123 220 329 384 396 434 576 927 241 257 351 481 687 784 838 989 66 79 149 218 289 343 358 639 732 852 907 44 379 390 788 811 344 390 448 459 701 726 770 874 890 900 37 50 163 177 317 355 743 990 15 234 337 351 514 541 676 757 983 996 126 211 323 704 807 841 304 387 417 649 761 778 793 836 849 918 978 106 322 335 348 371 500 744 885 31 45 57 514 646 672 960 58 313 477 673 822 901 950 293 332 354 518 716 798 126 583 612 452 504 778 846 168 515 624 839 444 481 574 646 764 872 206 57 251 400 662 746 913 112 193 206 321 512 7 69 198 221 396 471 524 535 587 714 368 697 753 850 930 74 214 341 576 590 707 764 994 19 71 134 270 533 686 914 991 45 117 143 171 195 233 405 585 804 875 965 17 277 306 376 649 820 870 925 122 194 234 248 303 328 340 483 663 716 728 742 772 802 828 857 896 935 948 2 38 155 538 651 715 726 753 778 804 938 119 210 333 359 454 612 646 980 307 518 600 646 776 946 987 41 162 184 278 407 522 563 575 615 628 819 204 242 267 482 806 902 945 270 281 435 558 611 663 837 911 373 440 677 42 189 288 378 429 468 566 48 59 73 88 211\r"
     ]
    },
    {
     "name": "stdout",
     "output_type": "stream",
     "text": [
      "mulch 225 283 578 675 48 61 112 310 454 41 640 658 673 795 869 921 948 59 88 183 252 357 536 552 634 736 786 815 841 853 972 114 168 193 422 448 459 832 847 14 83 176 189 264 290 382 450 546 794 937 979 89 114 241 462 545 585 788 34 58 552 626 685 954 5 90 115 182 289 544 846 918 50 134 329 421 559 587 161 245 451 498 642 681 741 853 936 996 254 518 765 925 941 74 87 101 118 160 269 424 508 995 114 471 521 550 607 621 866 125 227 264 290 303 411 456 469 507 717 832 933 995 168 347 375 584 248 382 465 545 657 839 987 26 265 344 501 859 872 915 942 952 103 114 127 235 247 422 437 467 579 624 950 976 267 302 456 471 656 722 954 145 270 284 309 606 663 788 834 915 989 134 220 259 438 468 557 658 821 854 49 221 604 763 931 944 26 322 475 486 571 732 783 793 823 870 924 936 304 434 463 627 669 817 859 881 12 55 151 284 341 472 484 634 760 978 180 273 391 406 634 708 807 39 50 375 495 589 877 175 516 654 693 705 767 857 32 120 131 186 244 357 428 444 527 578 632 876 980 71 372 384 635 661 676 845 965 40 144 183 296 468 570 604 712 751 932 186 551 882 34 193 205 414 588 613 765 220 554 675 755 826 866 932 334 403 468 493 578 669 784 21 146 234 590 618 916 929 57 125 172 225 239 266 331 358 389 430 533 573 666 681 691 890 99 151 220 289 377 403 447 527 551 649 677 733 792 519 600 743 772 883 130 195 207 275 398 424 478 638 949 35 118 302 315 486 770 783 983 23 138 445 498 679 834 846 6 233 247 276 414 489 777 901 164 180 206 275 286 609 666 932 9 32 225 264 276 397 608 659 758 785 925 967 7 213 805 994 110 161 222 363 445 884 176 298 396 476 501 530 748 762 938 180 375 457 471 603 859 885 940 139 208 419 852 887 324 480 630 760 827 75 505 688 813 3 71 318 518 608 746 836 848 557 597 716 800 905 64 140 310 429 579 643 975 992 396 471 702 67 91 127 273 372 385 453 522 600 811 953 23 139 213 237 353 404 416 439 714 736 773 861 899 970 253 439 563 620 646 686 729 744 850 946 1 55 112 202 544 572 870 912 255 271 340 381 496 521 910 938 194 407 730 798 228 349 779 967 224 265 327 479 537 637 753 899 3 15 123 188 373 687 954 239 280 511 62 166 179 369 381 446 458 767 880 894 46 55 83 202 516 850 904 21 66 174 249 272 408 531 556 604 653 666 725 796 856 969 203 337 375 439 513 904 953 975 987 998 12 54 502 531 562 626 640 683 916 941 25 257 411 462 706 841 370 407 502 581 605 856 870 107 209 519 745 822 459 482 523 548 727 742 756 857 880 891 182 279 357 370 707 752 901 914 43 231 427 482 507 713 762 783 828 936 946 957 966 115 316 458 498 834 26 38 356 410 635 694 722 956 148 215 238 315 405 511 577 26 191 216 281 345 424 468 559 584 654 692 721 758 800 858 882 416 555 569 599 610 832 960 300 404 417 431 473 885 61 132 157 222 447 492 542 598 628 642 656 163 395 789 817 888 30 39 120 298 320 354 367 451 474 558 644 757 807 828 891 220 314 338 607 709 841 961 122 173 223 351 528 581 636 664 705 867 189 512 525 576 634 673 686 784 794 818 831 845 31 47 296 392 405 505 737 141 284 333 545 938 964 15 164 234 263 356 487 565 608 57 188 341 397 434 446 484 557 573 633 692 791 179 284 474 699 727 742 754 845 239 286 332 550 831 871 903 964 308 551 625 727 759 900 912 25 37 117 171 287 536 547 561 589 622 58 497 643 684 71 253 406 619 7 742 785 903 914 927 978 109 165 229 255 409 433 518 557 570 635 677 762 776 828 931 23 61 231 310 535 602 614 767 794 821 853 6 61 73 155 340 401 428 516 565 900 203 215 226 293 413 472 508 540 684 693 706 742 953 64 76 89 103 187 257 350 392 460 487 43 201 269 724 850 935 121 184 505 519 540 628 862 875 42 85 145 398 409 624 702 800 812 71 109 303 456 480 492 665 759 787 843 881 26 40 127 203 293 307 341 595 648 879 891 314 513 922 936 315 341 380 697 824 936 8 52 200 611 690 703 740 894 919 200 440 499 613 120 261 287 384 539 551 800 812 840 970 38 102 235 454 540 785 922 6 44 56 104 116 141 162 173 262 275 418 467 479 490 554 872 965 988 135 187 678 896 976 173 515 544 571 712 816 828 969 76 191 239 324 486 569 620 684 723 870 916 999 13 37 86 124 173 279 383 537 575 768 376 697 810 870 881 918 123 138 206 221 246 393 470 786 870 942 28 201 591 664 731 821 26 53 193 234 262 509 550 59 257 283 518 552 896 0 84 149 161 230 347 409 422 438 455 520 707 95 138 284 409 420 493 793 888 363 465 513 538 924 41 96 150 177 522 628 686 831 27 83 282 397 452 507 548 888 104 265 290 420 701 832 906 9 101 128 238 251 421 605 966 7 180 189 291 471 564 810 821 891 92 261 419 473 613 708 889 33 94 118 129 359 438 605 972 78 204 292 306 401 443 497 576 697 756 868 996 58 252 301 503 513 536 750 106 280 433 494 649 724 24 64 194 404 538 715 728 752 822 859 132 360 389 403 553 565 671 729 771 890 45 98 207 461 524 677 283 408 489 582 608 652 718 831 920 313 352 576 947 986 460 583 706 864 888 928 994 310 337 405 432 579 929 126 214 311 401 438 504 679 689 8 22 71 109 213 377 461 515 565 639 804 817 969 20 235 658 688 717 963 278 315 364 648 757 92 199 224 729 939 101 340 378 402 428 443 503 528 586 600 652 726 979 137 344 424 486 621 939 38 177 321 557 642 662 841 887 989 264 500 878 901138 296 491 603 814 335 457 534 708 762 910 49 173 201 362 661 704 733 759 796 806 995 33 57 94 130 361 406 440 503 579 591 614 699 709 864 877 981 79 134 188 252 289 462 601 612 641 766 894 921 933 32 46 177 244 301 329 380 393 570 609 637 690 702 818 833 31 97 192 259 342 356 470 494 658 719 745 772 824 880 934 270 282 800 817 108 176 311 348 463 493 678 719 865 962 989 370 435 506 677 691 842 913 941 90 259 271 408 423 439 482 585 699 935 32 74 264 368 474 737 750 84 160 231 292 344 649 660 284 338 450 518 751 851 947 979 94 227 282 469 695 738 791 843 858 65 181 194 304 598 622 635 659 668 680 693 705 732 756 916 941 15 173 214 435 893 987 114 218 420 433 447 577 827 883 66 400 542 554 594 621 895 6 16 131 170 183 373 438 844 883 94 254 296 356 610 31 72 237 372 383 440 679 750 981 995 134 160 320 441 452 464 539 590 670 698 862 994 85 144 225 295 397 538 633 741 11 57 155 229 240 267 562 578 671 777 793 852 28 134 292 363 375 504 601 737 986 184 344 502 594 688 786 855 26 38 99 122 150 242 547 676 874 887 915 952 269 302 406 533 649 712 801 882 13 93 107 132 163 372 410 625 716 770 783 995 163 322 551 589 627 740 806 914 940 261 737 344 646 972 152 268 348 557 599 653 275 455 512 526 584 707 731 740 774 810 833 866 938 975 997 337 430 621 635 786 891 964 978 30 76 122 208 236 387 493 579 655 716 729 789 944 971 986 301 355 368 407 765 77 174 451 560 595 741 996 89 102 157 183 210 236 404 491 614 920 972 82 145 157 275 378 391 454 506 517 689 798 901 926 938 993 74 353 367 59 114 199 242 290 333 381 545 610 631 652 674 22 38 269 800 864 983 30 67 88 169 180 412 445 661 782 198 742 799 126 149 206 324 408 419 655 835 907 265 405 506 648 168 193 419 539 730 771 920 959 80 103 186 651 801 26 39 226 266 477 701 892 918 944 984 165 498 612 678 95 123 163 397 589 716 926 972 8 77 533 635 650 842 871 80 161 323 373 449 511 644 717 754 874 922 958 51 90 346 580 718 861 981 116 289 783 879 14 195 285 340 389 444 510 769 958 971 71 184 225 237 319 467 519 604 85 191 330 423 465 540 807 820 939 972 995 255 284 456 541 590 619 926 529 557 647 736 52 233 410 680 693 854 915 988 34 58 334 482 605 629 63 110 135 239 384 396 632 39 272 337 353 753 56 127 214 604 726 982 190 250 276 289 320 364 451 800 924 936 72 110 413 452 478 563 587 658 673 938 151 163 332 714 787 803 13 54 190 202 216 431 632 646 657 710 838 946 998 259 283 573 675 778 932 961 4 43 216 244 280 331 361 551 645 688 767 779 793 853 197 298 663 687 723 990 53 65 76 120 157 219 347 384 407 550 573 582 595 721 763 789 20 128 261 327 435 461 511 546 557 570 656 811 831 942 77 186 602 629 710 896 20 56 71 85 98 304 364 511 582 952 964 46 177 525 625 723 734 26 41 57 144 174 259 289 315 443 457 590 762 924 977 122 188 407 477 698 30 43 241 324 348 371 423 503 629 670 709 746 827 173 227 243 386 401 427 523 535 616 643 656 777 884 925 92 134 201 214 336 406 464 699 793 5 20 41 71 165 260 479 574 659 821 201 351 439 466 535 573 585 740 796 926 939 185 538 652 689 834 948 4 211 708 764 802 816 43 326 398 495 748 967 994 34 98 145 409 431 442 682 742 835 881 933 46 339 390 494 729 769 829 841 866 933 985 234 249 442 520 740 911 59 387 542 569 778 802 44 112 288 539 812 971 75 563 576 691 772 797 834 850 990 42 56 212\r"
     ]
    },
    {
     "name": "stdout",
     "output_type": "stream",
     "text": [
      "barge 405 487 514 611 679 733 23 451 596 636 645 686 699 834 901 63 198 266 934 83 177 187 227 700 740 828 868 909 959 972 983 63 127 142 171 250 393 406 488 527 542 570 642 763 878 119 357 409 464 622 694 887 6 113 155 195 276 302 315 418 577 645 842 970 89 213 270 295 377 389 402 575 112 151 190 216 369 576 731 911 1 45 83 336 362 387 655 840 110 391 445 561 743 790 16 318 678 746 771 783 867 958 23 214 533 559 671 181 249 359 397 506 803 864 964 75 305 330 365 390 499 547 570 655 713 861 936 964 124 140 165 402 432 487 511 527 73 297 351 578 823 543 836 49 379 462 801 884 23 267 352 652 830 938 266 365 694 292 320 444 471 528 828 881 983 57 72 140 386 423 488 555 571 654 670 727 856 881 910 923 964 173 302 406 428 637 736 801 845 858 936 957 995 103 608 759 828 865 98 160 244 290 531 585 599 645 890 938 965 32 168 300 628 690 960 0 27 143 268 331 477 500 524 552 652 753 804 814 851 64 121 204 337 390 528 579 592 759 934 12 114 225 723 796 879 96 236 351 843 881 187 475 517 593 667 788 869 261 331 410 610 623 638 733 790 816 900 985 73 98 134 143 477 512 551 5 307 392 651 824 983 70 94 280 416 498 654 681 692 757 829 974 154 494 623 773 828 870 93 200 267 620 711 811 836 882 30 362 7 104 132 157 172 694 734 900 5 49 79 249 395 436 493 561 879 975 15 100 167 352 429 591 664 788 801 841 897 72 112 326 627 751 814 890 102 355 426 437 463 638 720 483 572 783 823 902 963 134 219 335 360 452 481 507 694 768 797 903 55 66 94 134 276 377 477 535 579 670 822 867 991 22 125 198 250 265 355 736 754 832 936 967 285 297 551 686 759 962 119 465 493 519 557 885 901 957 90 104 116 212 262 275 288 302 338 415 431 487 517 632 866 881 906 933 985 10 50 258 427 482 507 633 710 723 863 121 729 804 816 889 972 92 218 368 535 605 672 721 905 944 122 250399 430 456 575 676 764 70 111 138 287 471 601 746 789 956 983 20 33 59 628 653 800 813 907 930 952 0 195 258 409 499 535 131 171 182 194 234 262 316 342 506 644 866 920 947 81 300 542 616 665 835 893 103 455 518 675 712 768 901 977 990 30 338 659 696 727 797 809 854 983 11 110 171 269 336 405 461 500 592 99 374 653 369 477 571 599 886 954 993 40 125 287 529 971 395 524 591 628 740 963 283 337 585 677 821 847 859 872 173 243 427 454 493 101 129 306 699 711 22 197 219 233 424 917 27 269 748 809 336 168 391 109 176 235 456 520 614 640 822 38 480 518 850 316 352 363 389 485 498 775 877 166189 238 748 774 250 312 411 481 592 931 318 446 801 850 432 669 28 110 138 463 531 732 818 843 870 311 614 763 881 968 192 334357 381 806 921 198 436 485 535 636 681 708 719 756 831 993 18 274 337 392 926 35 183 314 325 351 556 766 978 284 729 819 877 919 973 56 87 114 215 339 398 428 544 558 649 779 793 924 995 8 32 270 298 322 370 451 509 5 47 87 102 116 210 290 501 590 697 52 80 93 270 308 412 465 491 600 635 744 920 941 268 426 555 619 632 362 679 691 740 911 42 261 370 425 439 73 170 445 457 521 537 833 96 136 382 633 655 730 765 876 968 156 541 669 806 35 362 403 467 480 490 502 952 247 260 274 290 525 539 553 667 43 760 774 954 967 128 180 219 625 730 870 944 46 145 213 258 548 631 831 47 161 379 559 687 816 937 974 109 369 395 448 496 735 866 190 363 423 494 915 581 610 817 856 882 926 938 994 60 82 130 298 418 456 477 557 665 675 712 737 816 898 945 21 47 62 76 197 224 491 617 666 747 782 3 31 77 350 656 801 902 969245 525 642 736 889 37 49 150 173 211 283 309 343 368 395 434 514 712 997 113 490 989 178 490 546 662 760 912 133 369 490 729 765 950 107 159 262 314 382 681 747 861 903 5 203 213 242 474 609 762 943 954 55 389 606 904 141 153 456 573 696 799 930 98 207 232 267 308 373 481 530 660 735 756 837 3 43 83 134 318 355 176 197 211 339 554 615 925 15 253 388 474 488 502 632 888 46 123 435 664 750 816 828 24 311 468 507 556 974 49 150 281 426 563 999 173 225 250 310 339 615 630 665 900 111 192 326 523 536 700 830 965 378 646 703 899 999 37 51 288 451 488 763 975 989 67 80 477 636 975 467 721 736 912 39 209 303 505 651 722 830 931 23 146 172 239 287 324 440 515 628 809 852 879 918 993 30 71 97 122 148 514 614 670 940 984 147 270 331 413 518 714 742 757 838 937 966 26 152 242 324 430 490 530 603 659 711 917 19 151 194 222 330 355 515 528 570 690 789 829 858 912 49 299 338 402 570 582 605 686 750 786 914 1 157 207 236 826 860 947 41 245 272 347 359 599 740 851 864 421 471 621 770 958 998 89 156 293 305 431 549 768 795 932 961 103 388 403 443 598 638 694 849 928 125 243 343 430 462 619 241 460 519 607 65 454 654 884 896 961 618 630 763 983 65 199 240 448 705 719 30 509 626 52 301 314 534 574 790 48 626 737 781 911 983 81 123 189 365 426 434 647 785 951 433 444 519 565 608 653 795 820 212 253 284 832 985 85 99 268 605 753 780 790 856 870 993 5 161 265 308 354 366 522 548 585 684 746 784 797 835 845 884 100 127 149 175 356 644 686 439 524 673 769 899 984 194 359 431 646 731 781 399 814 874 887 94 192 307 446 472 483 506 767 792 827 841 922 188 465 516 625 768 2 161 256 331 572 660 852 446 482 645 706 794 919 59 82 94 119 174 305 320 484 678 852 22 156 287 300 312 373 531 638 755 833 869 166 603 616 627 664 765 86 127 221 384 432 765 775 823 896 923 10 156 215 301 421 433 668 254 307 377 512 793 806 24 115 509 15 552 769 4 368 801 863 16 153 505 671 805 908 69 134 207 422 547 669 858 926 952 64 369 479 542 555 567 697 733 773 805 28 43 79 254 561 574 641 683 779 832 844 872 956 254 300 480 502 692 795 905 64 114 151 631 807 970 995 85 184 239 434 823 495 755 39 114 303 803 908 54 67 668 720 861 944 330 384 503 646 675 715 990 123 197 244 292 438 620 671 727 776 104 116 322 336 470 499 568 605 825 919 63 791 817 932 995 108 369 458 484 681 690 763 877 916 86 241 254 536 551 578 914 978 381 457 568 731 77 130 306 408 436 591 615 716 833 901 929 25 398 615 641 671 955 970 984 27 296 365 457 532 701 715 754 797 812 826 930 207 259 340 353 639 933 13 354 401 465 526 616 718 820 304 315 370 407 617 122247 277 343 504 684 883 118 217 357 419 453 569 620 665 32 133 221 295 312 503 666 711 735 831 845 900 964 46 114 124 134 248 351 381 396 419 540 877 105 130 510 705 720 762 787 800 41 93 390 487 554 580 605 858 872 28 206 260 349 403 441 509 522 701 729 780 953 8 53 67 136 218 327 422 457 696 1 151 204 352 387 499 677 793 840 950 975 30 42 125 238 249 282 373 526 571 812 823 900 934 978 989 83 94 107 153 290 712 724 883 909 97 318 549 638 858 883 35 74 160 238 262 313 440 454 608 717 797 812 307 378 452 477 516 552 937 35 132 248 324 364 419 430 442 546 672 726 739 817 914 326 430 514 582 617 811 986 21 76 100 332 427 919 245 305 352 511 867 940 82 96 107 175 276 482 568 983 993 63 101 139 423 473 509 617 629 651 698 710 854 37 174 269 285 299 370 476 504 585 764 846 999 78 88 288 318 425 640 724 88 225 271 92 157 402 498 586 659 682 793 895 922 82 145 226 642 656 750 762 841 907 142 180 294 29 865 879 967 44 372 884 895909 190 551 826 838 86 375 740 807 291 515 550 153 352 643 667 717 759 804 34 119 227 322 509 757 838 112 220 465 536 915 463 611 725 769 878 891 914 997 21 247 259 549 575 666 713 757 921 949 108 179 197 300 448 478 508 786 856 882 908 967 390 443 712 978 19 501 514 648 775 186 276 316 343 703 729 801 895 908 388 440 451 475 541 620 724 852 913 939 444 542 623 787 858 10 312 484 533 645 778 375 492 504 529 690 829 47 179 249 313 499 551 736 9 111 124 555 688 919 318 332 494 816 243348 617 641 666 724 66 134 463 587 612 762 957 93 240 304 330 447 516 543 720 758 786 815 843 872 13 253 328 473 574 877 23 104 189 297 364 438 854 3 90 160 542 597 648 978 312 547 911 985 195 263 342 408 578 615 654 724 834 963 979 992 62 206 220 310 386 719 926 86 349 364 454 468 558 671 928 597 702 916 977 18 122 159 302 369 381 417 440 477 590 43 228 415 502 515 674 686 752 958 985 999 43 455 499 616 962 1 54 102 328 341 404 498 621 767 855 867 922 948 984 149 256 270 337 362 512 541 578 607 769 793 856 923 976 31 108 203 608 683 826 928 961 49 132 157 204 260 377 574 691 703 859 940 12 89 108 727 183 389 557 954 946 247 319 346 418 444 577 907 970 89 330 388 425 602 6 151 267496 872 173 204 672 683 830 90 306 509 523 666 708 30 369 391 447 482 762 48 113 223 431 691 747 86 116 158 199 290 627 320 380 392 712 746 756 852 882 894 906 982 209 426 442 523 577 592 692 734 778 804 4 266 444 723 928 971 469 688 789 33 58 331 352 363 385 395\r"
     ]
    },
    {
     "name": "stdout",
     "output_type": "stream",
     "text": [
      "swami 241 434 624 719 771 995 8 170 248 314 328 419 433 602 701 82 383 625 791 860 902 956 162 187 213 663 763 875 902 918 933 26 114 142 208 220 244 281 320 395 597 772 833 873 977 43 102 231 352 419 429 453 601 699 792 900 923 973 987 253 321 393 493 31 87 334 348 454 754 829 870 962 173 457 650 706 0 37 63 310 374 422 459 485 696 858 882 967 371 495 715 169 163 400 424 679 819 62 92 144 171 234 364 377 562 704 714 728 805 916 49 120 135 149 226 242 280 296 312 436 515 700 728 989 103 142 205 327 400 423 436 499 523 550 589 910 922 82 99 282 746 788 801 832 872 34 78 93 438 454 898 930 183 423 794 831 856 20 65 107 118 301 380 474 536 592 649 781 942 981 39 537 563 641 842 943 121 311 399 556 600 613 626 985 134 224 290 431 535 611 111 365 466 522 576 760 820 883 939 60 187 256 321 367 465 476 499 528 36 548 655 670 741 789 834 860 980 55 273 442 502 628 865 938 41 130 188 198 221 384 419 634 656 694 762 828 839 21 60 70 133 526 539 605 765 778 871 882 101 160 741 6 34 215 617747 849 959 192 283 40 158 269 304 766 790 819 924 15 56 103 159 186 286 844 959 11 133 257 312 501 666 715 794 88 372 448 724 906 199 282 349 854 168 238 556 656 680 694 777 865 125 231 344 390 402 473 497 588 628 682 718 865 901 922 972 155 180 193 205 303 378 474 515 735 802 818 918 190 291 317 345 357 369 894 928 942 979 992 189 302 597 952 52 132 211 476 719 18 219 268 378 496 674 827 858 897 991 266 290 329 421 431 654 742 919 270 383 447 460 472 563 625 639 665 772 834 35 75 84 110 186 254 273 481 586 727 865 147 252 281 402 525 567 685 754 847 18 71 116 141 214 261 300 377 426 467 518 636 813 854 919 987 11 98 123 416 900 1 61 95 284 410 484 696 830 12 43 597 931 613 635 781 742 870 931 98 323 718 729 911 11 270 347 570 849 873 261 285 407 894 4 193 272 453 467 685 726 783 823 906 947 37 111 304 462 516 770 864 942 419 447 554 590 186 654 992 158 355 478 604 737 970 56 94 119 487 122 679 851 965 351 813 920 952 39 161 246 396 435 488 527 541 681 749 801 814 259 325 522 836 894 52 90 242 379 442 486 655 868 938 965 980 57 216 333 527 400 613 669 696 931 817 870 129 211 433 921 108 151 195 220 861 123 517 570 740 904 23 64 91 206 243 945 15 122 147 272 548 584 596 976 546 572 751 763 806 867 111 151 225 531 632 712 739 836 880 96 134 195 209 302 330 344 395 449 478 592 739 900 977 28 57 68 295 467 508 910 60 270 285 626 56 154 250 343 499 550 592 769 781 952 33 263 344 563 590 656 670 718 395 658 833 201 475 563 642 706 820 846 913 995 53 181 247 481 84 289 399 469 523 102 371 489 151 301 580 222 489 961 44 60 88 240 278 223 236 275 336 510 933 947 974 87 131 214 422 552 859 35 119 177 479 734 809 84 113 174 265 361 397 415 860 920 970 54 126 138 544 578 616 652 780 969 75 134 157 313 481 495 507 544 666 783 807 819 932 972 632 641 717 112 197 317 358 518 544 611 668 696 932 210 344 405 740 831 862 890 917 23 113 127 250 568 717 781 806 856 84 98 297 604 618 790 970 69 106 119 749 777 879 107 182 208 258 352 450 770 948 120 419 584 966 131 423 545 640 682 692 957 118 234 404 505 564 577 617 688 721 927 71 186 414 451391 609 789 16 85 386 600 628 45 223 590 623 0 117 262 289 399 414 455 183 218 265 291 384 435 537 654 702 728 904 982 117 199 319 851 952 98 165 221 249 292 356 407 526 589 644 855 866 878 892 917 971 172 548 707 723 820 948 964 124 205 375 418 571 640 667 680 691 768 886 968 99 248 296 502 695 896 31 320 451 693 705 779 792 874 925 198 229 315 393 404 418 432 445 547 563 609 785 797 923 273 354 440 451 559 584 748 912 42 200 211 222 231 243 322 434 539 610 691 58 113 225 287 572 624 637 745 759 771 782 811 832 845 223 307 734 764 780 866 882 25 105 117 183 273 510 727 805 828 244 357 485 603 338 637 981 21 147 621 699 710 889 899 97 119 130 183 319 438 829 81 115 138 765 11 72 88 117 262 341 550 574 627 654 691 799 824 839 968 981 996 20 57 109 378 392 608 700 709 857 892 172 447 487 515 544 598 624 900 770 815 929 37 120 167 305 482 602764 904 958 299 25 220 437 467 585 796 809 52 145 212 908 67 637 650 679 694 782 13 152 165 427 474 546 663 925 936 110 212 307 403 426 580 645 729 766 848 861 874 899 938 952 993 45 245 296 532 613 679 691 725 761 56 130 171 184 248 302 440 467 588 668 929 102 189 205 354 576 589 604 650 827 950 130 282 299 396 465 515 696 210 144 246 260 272 398 586 811 823 935 85 356 391 417 432 510 552 651 62 170 261 275 552 564 631 646 908 995 116 512 692 876 993 21 98 173 196 211 223 239 250 264 275 361 375 745 911 177 278 307 453 652 691 705 735 763 819 888 902 917 952 994 151 208 296 338 540 707 722 154 234 293 566 702 716 772 841 912 997 77 186 487 863 895 971 90 191 216 226 260 856 15 77 226 434 470 956 969 149 507 530 712 779 854 977 991 26 105 204 226 250 487 499 595 637 672 897 908 942 981 101 357 536 618 949 987 0 53 78 207 374 572 625 738 838 887 983 40 464 672 739 796 891 927 109 297 888 902 227 707 175 323 338 379 394 409 607 709 739 805 921 961 85 163 178 321 410 422 526 561 576 947 154 208 331 391 744 813 854 937 994 67 91 371 530 716 900 187 319 348 391 481 637 663 831 852 954 9 259 709 969 980 62 165 221 499 529 647 714 825 869 895 935 179 191 246 291 352 421 495 660 821 146 249 260 386 453 490 592 621 773 785 796 265 401 543 602 667 800 33 70 211 247 329 342 382 428 572 699 974 127 177 192 366 631 776 787 866 379 460 891 743 870 50 59 155 323 347 412 477 501 533 555 827 880 991 250 289 336 362 488 589 782 835 897 62 116 127 241 333 463 543 554 680 692 792 980 35 131 187 226 267 445 565 841 889 953 428 649 804 832 973 87 150 288 496 537 643 728 938 36 154 231 338 477 490 608 621 726 866 36 348 689 712 938 977 26 90 206 219 376 389 400 518 586 597 866 918 943 124 202 234 411 450 510 716 884 93 193 430 778 790 954 190 236 399 479 679 778 34 152 453 536 656910 975 102 224 237 552 701 143 194 309 355 900 998 88 129 142 153 166 180 216 254 266 280 379 443 521 609 736 859 886 955 981 992 315 373 386 575 880 11 23 168 209 424 452 520 562 633 645 853 76 160 261 403 433 444 503 646 729 889 913 279 333 620 774 804 91 158 288 635 649 707 876 894 91 115 171 211 568 668 770 921 944 971 983 22 80 94 107 135 160 486 544 573 978 991 48 239 677 752 789 886 911 948 308 817 382 397 424 548 596 609 782 796 839 908 11 93 172 411 438 619 67 113 184 308 481 584 134 383 436 463 475 491 640 756 873 590 603 683 714 775 901 913 6 512 557 732 852 244 672 825 940 11 284 311 335 434 568 25 129 143 182 272 437 478 665 785 858 27 223 234 349 504 787 847 857 894 979 17 91 102 359 546 626 681 814 916 954 591 736 748 839 119 176 299 379 516 566 756 797 811 640 651 702 757 117 345 602 670 61 73 391 425 465 546 727 740 76 117 371 449 490 756 834 901 12 129 172 484 644 202 297 507 794 219 243 294 601 654 721 987 45 84 176 201 416 457 499 812 837 888 955 4 71 342 464 538 665 895 946 969 75 313 324 370 491 27 326 475 720435 509 542 817 382 437 157 311 324 357 390 441 684 708 879 3 44 239 308 371 386 775 864 473 761 800 27 584 858 914 211 270 615 777 849 381 532 560 590 711 55 161 217 326 653 852 893 4 618 670 866 946 984 20 45 497 631 776 850 914 942 971 75 98 232 257 499 754 820 30 186 286 342 357 489 622 777 966 978 82 147 172 195 232 303 415 466 493 505 810 860 901 125 183 196 504 627 953 965 114 126 207 265 288 567 148 374 753 930 940 952 991 122 197 297 319 342 471 483 531 644 667 678 856 918 943 970 98 181 697 792 17 123 187 345 358 416 427 485 602 785 848 923 238 270 439 738 983 359 526 554 614 639 725 778 875 226 242 328 472 487 500 539 585 709 790 866 933 41 173 256 281 304 447 487 547 595 798 824 18 616 684 780 840 863 728 854 948 19 154 290 304 360 467 514 543 874 886 918 934 20 153 166 231 243 393 455 737 829 839 464 479 492 509 661 752 942 54 507 611 663 775 91 184 437 548 562 761 772 188 282 322 450 494 508 571 584 640 656 811 835 889 912 20 154 205 317 542 568 723 888 936 963 117 141 208 236 303 605 691 840 893 991 15 182 343 437 448 620 67 99 375 395 483 568 637 700 711 802 3 87 97 180 246 607 641 905 132 145 176 191 233 286 426 619 674 757 789 829 905 940 134 145 265 368 417 517 665 809 874 894 939 172 186 372 478 502 678 311 323 400 520 684 696 711 809 860 872 972 983 21 104 130 237 290 435 584 598 688 892 904 915 187 236 552 821 429 521 582 995 39 394 812 970 99 173 292 464 572 885 966 11 264 873 906 207 331 500 9 436 560 143 229\r"
     ]
    },
    {
     "name": "stdout",
     "output_type": "stream",
     "text": [
      "tense 416 268 291 348 399 440 483 495 698 848 990 342 352 443 457 533 559 865 937 987 12 186 197 443 497 596 708 722 734 770 873 926 76 298 451 551 726 752 904 61 109 160 192 272 394 467 612 773 809 930 963 197 393 538 602 778 11 373 562 691 793 958 93 305 562 590 766 889 917 207 362 389 522 619 665 691 850 911 950 168 185 212 265 304 347 389 455 635 720 814 829 868 908 961 987 68 141 165 799 811 840 852 986 25 37 205 297 581 776 791 840 50 63 98 136 316 372 514 526 547 678 708 846 957 51 92 297 366 430 571 781 795 832 885 912 975 45 179 445 520 972 70 208 221 298 395 470 682 693 763 818 883 1 91 239 404 760 856 183 225 365 632 798 884 898 13 95 156 745 826 983 56 109 251 346 414 642 225 715 921 60 182 520 667 680 707 752 964 238 382 794 874 125 161 460 513 690 848 898 72 188 346 468 578 810 98 153 188 249 458 510 753 865 972 42 83 121 198 252 264 330 405 595 713 994 47 223 385 396 423 555 745 757 771 849 936 991 344 442 511 530 672 792 105 216 680 14 233 244 257 327 344 567 592 655 786 880 64 330 534 601 741 860 13 28 275 303 314 343 575 598 612 658 682 753 871 954 966 9 243 286 317 433 482 612 723 876 916 41 53 81 172 199 369 451 481 495 539 552 668 693 767 890 901 110 124 161 250 343 391 417 445 482 540 554 588 638 700 120 346 490 520 534 724 822 898 158 353 485 519 531 573 586 637 699 750 862 880 919 29 103 246 327 356 378 403 490 564 657 796 61 123 195 276 355 418 487 553 630 644 683 722 758 926 6 39 111 410 496 784 228 279 636 726 34 117 129 156 171 222 250 339 410 424 639 664 747 968 20 60 296 463 539 637 695 771 814 866 207 265 386 398 516 552 787 7 515 691 839 32 440 526 718 746 844 987 121 191 307 608 714 965 993 50 125 226 297 332 433 446 472 662 721 756 999 237 586 789 858 945 188 202 330 356 755 799 878 899 912 928 129 190 260 294 361 525 594 781 251 555 579 998 36 51 73 99 121 476 586 726 88 192 307 465 716 43 68 81 153 705 793 16 80 106 195 236 260 343 403 603 648 729 740 975 25 49 83 95 108 252 303 469 618 657 830 905 987 234 285 337 414 676 895 442 532 543 955 93 123 180 191 536 563 589 717 741 756 964 238 251 370 447 462 763 976 107 178 252 274 329 391 575 689 784 222 388 603 987 268 365 539 844 934 7 57 222 512 632 676 721 765 818 115 211 511 770 867 919 976 154 248 353 365 532 546 92 517 594 620 855 51 67 79 329 430 812 162 200 412 631 738 883 136 201 251 304 386 453 509 625 723 735 851 877 0 172 671 83 138 151 208 221 303 401 428 492 520 601 986 109 396 742 890 145 269 354 419 457 629 13 37 301 345 383 700 745 282 406 420 689 37 262 275 357 596 676 701 912 248 288 372 384 68 209 592 770 447 61369 307 360 499 802 878 49 82 168 195 222 504 694 793 891 995 24 64 201 310 435 542 725 283 340 504 619 657 738 777 804 905 947 106 158 458 540 608 821 153 246 781 791 856 957 984 131 255 265 278 400 413 531 577 692 746 865 879 894 995 67 150 250 366 426 437 566 639 836 923 144 174 251 295 365 840 273 512 596 878 161 634 42 203 252 487 535 629 216 239 329 564 592 629 878 336 420 487 598 851 862 943 23 333 509 751 830 687 804 69 245 312 506 634 692 915 1 546 48 208 488 587 712 764 30 520 929 340 727 468 679 746 980 991 251 347 460 513 732 826 898 137 238 330 597 269 367 379 740 796 885 953 780 808 15 293 316 329 367 380 420 459 788 950 43 125 247 454 557 727 769 917 56 374 554 646 23 292 433 518 619 650 692 850 920 121 251 288 311 359 491 862 131 252 134 174 198 373 427 443 657 795 19 395 483 924 939 949 966 20 55 119 226 440 512 586 614 654 694 380 607 772 784 823 868 453 479 741 799 856 83 500 543 813 838 914 43 55 295 307 399 558 625 651 891 927 32 100 603 774 19 223 597 714 957 172 185 294 414 618 640 943 47 89 203 274 357 963 29 70110 271 475 591 632 668 679 795 823 928 952 21 79 142 153 165 346 357 379 452 546 620 115 260 633 667 854 889 947 958 9 20 33 89 355 547 596 664 731 744 59 88 312 337 670 790 803 892 934 82 110 124 230 285 535 681 745 894 5 128 251 416 468 540 701 754 847 961 328 369 480 601 654 740 874 899 27 82 141 242 282 310 453 464 475 508 679 765 777 789 873 91 146 172 214 458 470 540 580 637 674 686 726 906 235 364 395 434 582 595619 648 719 804 851 865 879 992 31 84 198 238 250 432 537 593 720 72 98 328 412 537 738 127 306 336 481 548 718 827 841 950 116 243 307 369 394 819 875 88 126 178 293 383 638 956 409 435 476 500 635 681 695 764 902 930 971 90 153 396 656 15 27 112 137 163 188 445 590 642 698 788 858 54 226 339 386 492 541 579 591 645 111 138 270 344 479 492 600 988 127 297 332 532 567 600 638 785 991 239 301 350 641 786 823 91 122 202 297 455 662 797 109 188 215 307 549 593 725 739 751 764 855 868 24 163 251 300 369 523 578 670 693 810 850 97 121 226 277 293 568 581 619 649 822 926 41 156 370 452 517 595 636 650 800 30 220 258 430 559 667 772 58 83 351 478 550 781 809 834 889 967 134 391 404 606 816 837 948 971 180 273 405 541 685 711 879 960 199 411 738 871 882 8 34 58 234 381 465 492 635 664 677 722 831 469 772 61 295 470 871 900 12 446 473 551 710 723 926 66 323 400 449 473 894 995 49 63 99 202 256 700 928 59 172 394 643 870 978 21 123 251 351 445 486 549 621 693 705 826 838 3 79 206 394 449 478 168 318 424 827 959 985 156 355 370 495 525 842 61 106 181 276 501 642 73 86 97 135 351 404 783 796 842 894 905 74 353 510 524 587 652 693 812 53 91 213 446 750 997 95 174 276 344 468 718 903 331 605 929 966 283 398 604 809 925 1 80 385 431 562 574 632 745 775 953 965 977 207 237 549 573 656 800 827 966 981 23 159 235 249 342 654 668 761 800 160 341 434 785 22 61 148 484 530 555 569 959 985 167 308 405 433 497 634 748 763 808 848 876 903 78 269 386 612 661 75 167 277 324 472 521 562 599 646 748 905 22 133 310 324 350 430 487 690 754 976 128 205 247 345 372 508 882 89 102 251 320 346 630 821 37 88 163 290 550 616 693 759 870 26 140 252 277 481 520 606 751 898 30 72 236 799 814 16 137 671 190 572 853 322 336 376 405 506 547 748 763 899 979 4 29 121 570 598 611 734 823 865 971 76 89 293 689 742 769 957 57 164 219 510 679 707 746 876 901 128 196 278 317 375 611 663 674 911 924 43 197 654 746 113 307 451 489 609 838 79 114 250 421 531 544 674 822 856 882 950 997 92 163 201 266 466 914 965 50 222 499 639 843 878 69 471 592 617 751 121 347 671 683 86 113 330 372 603 629 694 708 750 881 939 968 385 750 354 532 639 693 707 971 996 54 190 228 265 315 482 494 507 544 583 596 701 715 727 839 927 991 32 141 180 194 266 293 650 733 748 776 864 974 122 659 741 798 925 83 136 264 371 479 546 897 13 166 205 214 349 437 477 532 661 675 715 741 754 875 889 916 26 55 265 422 729 896 43 153 327 363 459 484 615 762 814 68 95 438 736 58 141 245 367 626 718 999 40 267 291 464 476 763 822 396 635 972 26 84 258 453 522 702 730 939 213 227 407 434 447 462 516 717 731 839 851 18 50 411 439 449 473 608 771 784 809 955 991 46 55 274 286 454 468 610 857 871 885 941 158 251 329 375 388 429 491 556 603 617 739 820 850 10 26 104 457 501 586 658 851 865 880 896 909 207 547 592 919 173 318 435 504 787 830 886 915 48 287 313 471 600 615 751 113 125 185 266 386 435 588 669 682 968 982 23 291 313 379 404 492 620 822 51 127 295 333 362 374 402 630 643 695 719 834 846 950 184 206 259 368 549 594 717 854 73 357 630 772 838 893 946 971 10 37 259 366 406 429 715 838 862 54 139 343 357 654 31 182 234 247 259 343 462 543 555 652 39 50 235 417 569 645 656 714 859 873 128 219 320 358 415 463 730 832 183 231 448 901 993 86 149 259 345 436 623 697 724 765 851 918 995 19 175 350 469 562 727 962 973 81 160 362 543 615 639 774 801 905 174 314 326 392 457 485 516 616 673 733 777 791 909 965 992 62 99 139 476 581 784 989 14 65 239 276 374 559 663 81 195 249 446 459 554 611 624 638 718 731 759771 966 75 367 439 744 27 205 245 282 359 654 833 977 462 549 561 577 643 759 798 860 257 471 509 594 662 672 737 830 858 4 73 131 192 291 331 433 492 590 708 751 902 287 474 580 628 679 757 71 86 174 203 241 272 496 555 677 808 950 160 175 188 202 389 469 482 740 814 882 897 991 164 192 230 256 305 379 417 528 554 564 579 645 753 795 822 834 144 228 298 646 716 744 817 76 146 332 346 372 493 565 582 634 661 750 765 49 129 256 362 509 609 696 711 838 16 30 111 495 780 818 20 214 291 421 583 680 692 720 774 922 966 162 175 228 545 605 634 753 768 782 974 32 227 283 350 527 602 681 718 887 145 185 365 702 766 778 892 916 102 306 334 385 732 792 821 12 79 103 169 252 374 402\r"
     ]
    },
    {
     "name": "stdout",
     "output_type": "stream",
     "text": [
      "skiff 917 526 555 581 784 812 837 848 281 307 322 345 386 429 832 902 498 634 674 786 950 461 756 782 832 918 971 158 209 238 415 440 480 528 901 969 226 375 395 487 647 770 66 306 498 581 595 736 750 846 53 103 308 340 376 510 557 788 934 2 119 228 271 348 668 757 809 928 210 231 347 520 548 627 663 772 895 131 145 358 404 509 596 609 753 0 26 186 423 434 831 887 62 403 473 770 797 839 963 0 446 457 497 507 658 766 209 431 632 696 812 859 925 12 257 366 407 421 447 488 515 553 703 747 860 890 917 957 136 261 273 288 329 367 419 430 634 667 681 710 792 894 980 994 127 229 241 339 692 761 788 852 37 197 347 569 58 181 223 281 311 350 377 493 536 718 746 784 838 909 10 38 77 189 230 323 392 539 755 875 928 40 107 122 204 252 267 309 363 405 673 47 138 164 215 286 313 624 638 706 720 777 209 237 428 441 880 22 128 182 210 239 508 635 787 899 924 83 142 272 429 484 547 603 645 802 921 937 87 213 467 517 572 600 708 933 72 219 291 317 641 681 847 945 203 226 357 370 433 445 581 997 50 199 210 247 583 831 898 24 207 273 375 444 472 537 548 694 58 100 196 533 885 996 60 207 254 385 448 527 685 700 763 841 181 207 285 319 370 380 455 777 851 865 965 994 6 120 199 301 312 369 540 554 593 757 213 388 621 659 980 244 442 456 469 572 746 773 783 822 850 943 559 762 802 267 471 481 611 756 833 961 41 67 80 136 199 482 635 953 80 392 441 671 734 826 952 975 273 315 344 481 513 607 629 998 58 112 289 444 468 674 785 30 197 235 249 355 605 655 679 754 133 314 435 495508 650 757 772 993 17 92 103 188 489 503 609 707 787 102 235 259 271 355 475 500 578 684 695 905 940 22 100 165 257 285 394 407 682 719 759 798 222 236 297 323 358 371 479 657 708 772 252 346 442 493 514 614 638 709 720 732 756 792 932 958 33 47 419 577 606 707 781 811 866 879 891 932 57 169 382 468 574 586 642 981 995 41 68 185 446 457 482 533 663 759 855 867 42 85 399 543 599 649 891 48 105 265 491 559 705 822 864 977 14 60 207 223 392 600 118 228 487 794 886 902 328 370 472 538 834 846 913 96 106 487 848 227 270 341 537 680 831 962 296 646 966 981 993 159 207 741 779 841 870 902 929 51 158 214 543 803 853 141 222 235 249 370 474 519 546 590 675 863 987 244 272 296 358 407 492 515 598 721 125 140 265 305 451 601 657 942 12 97 144 170 183 398 425 645 701 759 812 863 137 319 515 588 714 120 390 447 519 533 546 630 903 133 456 511 651 679 835 846 89 234 316 411 497 568 636 702 833 887 27 131 144 184 302 541 791 859 28 56 134 149 433 485 497 689 734 879 28 139 429 441 638 688 783 796 838 193 205 432 531 584 664 678 706 844 897 85 224 359 560 591 604 680 762 8 151 209 278 315 399 503 561 589 615 660 859 63 75 175 261 313 441 524 620 760 861 873 196 297 399 921 80 176 201 387 548 602 696 904 919 992 4 192 392 579 874 233 246 524 594 821 931 99 219 319 368 414 446 560 675 785 60 281 427 632 646 777 790 942 549 725 765 855 911 991 113 211 451 546 569 652 903 931 945 33 47 85 424 940 966 991 61 124 169 340 443 614 987 152 319 347 497 563 607 622 636 751 881 74 145 475 488 595 796 833 76 117 225 343 940 34 181 346 601 686 35 127 139 166 692 704 908 134 144 560 581 655 16 27 532 993 405 545 575 589 664 826 837 880 910 121 226 355 510 706 732 748 775 837 863 940 983 240 265 317 389 649 784 849 27 151 216 549 871 907 13 672 892 0 267 303 428 439 563 709 753 9 216 378 390 459 481 732 810 952 963 65 315 413 688 26 207 261 403 415 430 546 612 706 55 269 583 649 864 361 424 619 738 868 947 78 151 412 452 531 558 623 661 683 780 804 138 517 638 803 844 80 533 546 584 628 2 69 189 533 851 900 938 25 80 135 256 350 391 432 445 527 597 83 112 224 337 473 17 90 218 325 628 684 720 789 861 45 121 250 529 609 890 956 11 55 567 702 715 807 128 340 378 426 602 615 665 677 781 850 987 90 130 187 199 213 256 350 394 533 631 828 941 237 251 432 549 667 771 830 956 179 436 464 493 95 120 250 341 368 620 631 711 815 910 27 84 222 314 660 757 24 84 334 428 475 803 461 510 9 112 165 339 565 615 802 841 895 4 29 41 151 363 813 918 21 31 59 249 299 309 448 499 392 963 978 138 186 419 505 532 543 630 383 452 596 739 575 586 643 710 843 854 47 90 197 417 481 509 725 739 752 835 981 18 91 411 605 907 949 262 313 365 645 792 848 214 510 621 635 791 856 974 344 442 567 867 891 903 170 252 399 437 693 27 69 425 477 778 71 259 565 628 683 791 817 954 993 7 85 511 805 868 82 134 161 220 313 326 366 377 447 599 625 797 852 868 37 162 232 245 264 378 682 791 846 887 984 122 286 314 415 609 623 892 906 978 151 719 53 453 667 984 158 216 282 361 523 783 868 925 951 8 167 241 335 358 517 301 439 469 932 288 413 799 844 878 105 297 456 571 660 24 38 156 421 473 498 534 760 879 893 955 993 44 73 115 267 346 401 559 598 812 880 971 995 349 690 704 839 103 116 236 264 348 721 748 777 878 919 963 977 120 174 208 233 300 333 412 657 750 829 871 243 456 865 25 274 321 356 446 458 846 217 374 399 483 542 627 760 58 105 140 366 378 436 505 539 551 574 622 884 896 3 70 265 290 371 405 523 639 675 781 850 999 55 98 132 197 346 533 795 825 837 248 397 424 795 811 854 897 984 24 138 187 198 249 439 645 712 897 94 245 389 420 529 623 655 668 714 772 903 931 105 357 591 4 161 230 286 317 892 148 290 316 405 715 0 30 190 452 539 660 795 820 850 878 921 68 522 551 785 27 209 401 477 519 580 681 706 720 819 920 957 24 35 89 196 255 682 823 852 864 903 5 91 106 132 388 471 501 516 103 128 177 286 453 492 535 593 607 24 193 222 249 272 287 346 498 561 577 740 110 135 286 471 570 611 734 803 923 996 413 425 469 495 696 884948 28 40 625 733 777 828 869 966 477 649 662 897 18 53 125 189 320 511 619 716 766 778 83 334 383 550 605 741 793 809 113 157 195 209 50 488 539 638 808 908 34 47 58 140 212 360 466 554 687 760 870 956 968 0 214 458 771 784 855 103 430 587 771 18 67 79 190 225 339 422 478 572 596 727 798 834 950 964 976 6 168 211 252 369 712 764 934 39 186 306 466 740 806 170 200 396 457 683 764 167 196 507 727 840 431 480 559 621 817 878 938 968 162 235 262 432 795 954 72 113 197 445 613 691 721 734 827 960 9 352 464 493 670 683 30 348 373 413 551 687 753 69 216 435 591 658 248 263 347 391 773 972 256 436 540 595 742 781 911 30 151 286 451 465 523 606 854 878 120 249 274 427 485 634 782 830 207 236 292 350 443 521 643777 896 67 284 339 396 448 659 719 981 20 72 578 617 736 747 954 965 975 77 375 431 447 504 661 702 884 923 165 177 204 648 678 911 72 93 212 268 366 457 627 689 864 955 110 159 182 232 339 404 452 491 733 744 875 998 22 174 290 396 463 697 779 918 73 299 360 400 425 504 628 657 740 756 771 854 881 896 910 67 96 205 234 247 500 564 579 618 837 881 163 178 205 244 426 465 698 721 785 880 960 256 355 505 544 855 932 80 148 209 287 411 423 492 506 599 675 713 728 796 880 942 133 146 185 509 561 895 923 25 62 190 256 309 397 412 425 501 518 624 800 871 938 984 112 169 420 433 545 739 818 863 945 90 248 265 364 545 580 705 769 824 866 890 904 933 958 16 218 244 273 298 327 615 736 808 352 748 841 857 911 921 219 484 543 598 636 672 722 736 943 59 251 562 615 629 703 786 827 19 48 320 386 428 466 525 566 660 217 316 635 967 981 10 188 242 314 408 584 691 775 908 148 372 548 559 609 670 904 968 980 20 59 85 338 490 558 667 789 843 870 40 164 286 677 704 100 232 259 337 419 481 644 722 133 317 562 586 615 672 716 777 792 822 954 48 385 440 501 545 684 888 160 230 274 315 568 595 647 738 751 861 928 943 94 121 134 199 213 315 394 485 497 573 16 104 129 303 340 379 529 836 69 223 238 439 478 549 705 748 790 956 253 322 360 424 576 764 16 142 480 632 674 689 786 857 25 129 222 278 377 390 405 418 473 497 525 556 586 660 781 18 246 278 412 480 652 734 887 931 237 306 349 377 523 642 799 846 44 84 99 181 210 412 425 617 902 934 533 651 707 788 78 285 352 433 672 811 882 132 259 288 343 437 469 568 676 938 272 361 669 706 733 995 20 205 286 998 53 335 363 420 461 472 544 656 668 773 886 940 981 995 139 333 432 576 600 669 726 863 966 151 322 364 535 548 86 358 520 597 781 37 117 130 204 260 467 673 716 783 7 82 128 166 209 232 289 358 424 487 769 96 110 269 488 609 652 664 689 794 831 85 271 283 335 841 853 880 10 205 306 391 593 783 872 927 38 700 859 85 127 387 456 541 745 974 14 135 226 341 444 456 525 630 784 860 885 953 121 194 338 486 499 607 713 750 810 970 50 338 363 558 738 810 107 317 374 403 986 49 61 123 164 204 345 385 425 528 540 656 804 907\r"
     ]
    },
    {
     "name": "stdout",
     "output_type": "stream",
     "text": [
      "axial 364 954 206 267 317 338 877 889 539 696 708 819 915 171 260 283 319 356 366 484 548 597 609 805 866 79 134 171 185 261 543 585 610 732 860 950 978 29 206 260 726 779 834 861 988 14 28 41 79 368 401 469 519 550 636 754 883 943 998 132 218 232 630 645 658 740 956 983 118 278 355 369 791 893 74 298 313 386 548 622 699 792 854 926 152 384 457 724 747 759 817 51 251 295 378 608 869 980 102 426 493 509 524 679 694 751 823 920 949 963 274 349 376 484 582 934 108 214 227 277 332 369 395 433 445 482 855 997 203 216 310 459 485 501 627 641 817 936 54 326 443 539 765 808 875 88 253 629 149 255 346 371 454 615 723 783 921 53 143 182 301 344 435 458 502 736 876 927 8 154 213 236 265 482 667 739 803 80 381 986 53 94 540 675 106 279 339 449 689 715 769 962 583 705 756 811 175 250 581 712 751 825 140 567 26 65 184 15 141 216 335 417 460 18 227 343 383 713 784 800 813 100 202 255 282 321 383 662 715 728 750 762 788 824 888 12 42 243 269 864 921 30 114 224 394 428 450 842 998 278 456 753 835 908 923 938 975 16 129 813 310 391 404 418 634 646 660 934 973 988 34 205 277 302 316 364 453 494 822 853 217 303 455 534 564 663 19 300 325 596 648 46 141 154 170 325 688 728 791 868 145 184 196 349 362 376 593 286 317 446 690 829 59 165 371 431 587 631 670 685 944 958 987 268 405 839 50 294 480 491 866 878 906 961 987 57 247 323 338 400 444 559 574 623 699 773 786 977 407 726 841 868 327 586 597 611 672 731 741 865 876 910 187 214 349 430 481 752 792 980 195 270 292 314 393 417 546 624 747 760 802 866 891 964 53 253 344 541 853 909 215 230 478 533 838 863 878 8092 341 551 658 712 749 776 972 86 470 494 195 354 368 561 601 657 724 54 94 104 173 186 472 498 687 776 958 269 561 577 644 671 713 803 902 943 150 182 291 320 572 613 692 860 992 78 94 122 198 372 386 402 427 776 910 24 151 207 230 271 332 374 444 543 558 779 805 834 20 94 183 271 282 383 462 525 538 841 991 74 268 309 650 663 714 812 824 873 50 341 400 521 587 710 852 979 4 20 134 173 198 238 414 453 478 750 71 130 154 238 303 396 578 723 850 903975 986 997 64 335 434 50 298 431 464 513 30 57 94 435 488 560 591 837 949 115 726 812 153 166 272 332 402 791 841 115 445 539 865 83 481 508 609 646 257 475 556 660 810 918 78 229 284 296 548 574 719 732 785 151 281 373 443 553 816 948 115 156 453 479 13 519 555 714 796 915 940 981 105 283 640 376 449 891 253 439 464 514 564 588 796 808 6 19 128 241 491 515 955 106 182 405 649 705 840 311 387 416 572 600 672 771 822 894 967 15 151 573 752 763 983 10 72 170 256 298 517 607 639 746 881 905 916 106 294 318 413 757 770 812 62 248 313 340 554 950 6 143 173 425 489 559 602 725 766159 176 302 316 403 676 729 742 807 872 29 156 357 388 429 458 571 920 934 960 12 113 129 142 251 489 500 695 758 822 121 364 431 620 719 762 70 150 175 188 257 343 353 377 399 600 624 801 836 849 73 128 170 359 477 566 795 877 310 451 586 621 648 704 880 51 181 210 237 312 324 362 471 500 664 705 719 731 759 827 869 881 357 477 536 690 732 746 33 109 144 213 352 523 551 681 770 819 9 155 426 532 674 798 855 916 953 100 278 342 765 876 929 971 312 513 552 590 602 624 819 866 905 940 963 38 51 190 202 239 317 568 35 517 585 744 985 103 174 327 787 2 245 296 324 377 389 584 739 930 2 236 471 984 355 375 648 672 683 790 801 873 918 942 62 121 177 263 359 539 568 620 661 675 705 734 762 832 872 4 235 273 380 402 505 657 906 938 500 830 871 24 194 390 8606 376 530 774 872 918 32 89 214 281 466 581 651 839 869 882 74 277 453 895 938 144 168 341 382 674 788 946 137 186307 344 430 479 504 516 589 792 986 209 314 326 354 771 857 869 932 24 35 48 512 537 624 805 986 13 477 505 755 982 194 787 352 667 779 727 63 304 503 509 707 746 834 383 572 653 365 477 516 454 533 545 808 483 555 583 342 355 383 796 56 523 669 718 931 970 44 100 176 204 263 550 632 648 718 732 758 796 875925 28 101 253 369 657 0 13 77 102 314 449 509 547 557 596 730 17 72 109 134 327 339 374 491 502 514 594 616 688 846 984 125 293 381 483 496 51 180 244 489 756 795 566 635 754 878 920 131 172 198 239 253 282 661 729 152 207 219 368 502 531 878 194 223 360 514 715 769 782 797 227 293 561 681 918 110 121 250 306 318 397 549 585 653 682 765 820 861 989 3 55 136 230 321 362 415 612 665 744 852 911 925 2 95 377 433 526 753 963 70 361 391 402 469 509 624 652 718 157 934 972 193 327 646 699 712 819 938 273 590 698 867 921 88 156 329 768 887 968 25 73 215 481 671 759 977 4 287 315 415 431 482 545 597 622 792 852 944 91 248 314 431 636 675 715 744 795 266 403 574 587 811 379 961 144 305 427 478 693 703 742 832 882 961 435 646 856 161 241 270 285 703 864 938 4 90 130 329 463 505 642 728 755 850 940 16 93 294 365 482 586 682 857 927 952 165 222 281 723 883 969 139 201 356 393 484 520 625 920 254 348 438 469 554 596 664 722 765 831 860 886 984 105 143 641 691 732 772 882 990 28 153 228 614 755 921 992 104 138 238 763 72 87 145 158 172 235 382 445 544 572 750 792 854 37 132 199 254 347 419 498 637 828 870 326 382 685 892 960 82 167 295 402 492 533 888 61 103 153 258 321 335 362 391 402 483 549 710 724 806 930 120 221 402 487 501 804 849 949 75 276 475 748 42 92 393 654 728 944 48 449 23 363 444 744 849 108 310 484 595 844 939 168 281 353 451 522 661 714 742 952 204 276 371 399 439 518 585 597 851 920 951 1 253 339 455 622 652 720 776 864 249 313 547 701 17 73 112 298 367 718 945 41 100 186 260 346 406 660 904 406 553 778 793 809 104 233 262 395 565 687 929 941 37 66 177 476 622 675 814 965 85 137 182 196 289 451 466 573 839 877 100 346 396 554 566 587 695 710 761 31 166 212 227 314 933 72 183 441 526 537 659 917 112 231 296 361 428 504 609 671 848 900 927 162 205 274 389 644 724 331 370 510 591 603 729 765 9 209 259 559 687 753 870 922 978 53 116 247 288 302 543 569 605 887 363 378 705 818 875348 512 602 674 728 56 206 476 670 694 72 115 236 309 489 661 676 781 899 971 77 90 154 180 288 435 458 528 859 59 281 402 577 593 624 765 803 66 115 176 459 541 713 802 35 265 572 707 802 814 824 978 2 15 306 320 412 643 687 897 966 3 185 198 249 276 288 322 509 829 842 982 992 244 256 364 394 78 89 130 155 188 247 307 359 373 682 706 804 836 104 171 201 261 389 400 414 456 513 541 571 919 98 139 181 196 223 263 315 536 625 689 911 71 220 231 785 855 81 151 189 420 509 536 579 923 950 221 316 341 376 400 508 542 660 791 965 84 195 452 536 589 708 791 803 261 377 441 747 809 939 207 253 611 638 869 920 91 594 999 103 333 372 416 611 641 740 800 813 869 41 69 249 317 410 895 962 105 319 336 349 513 559 816 56 373 451 537 577 592 651 676 690 772 932 973 3 130 353 393 439 489 560 582 592 632 668 759 996 319 389 568 841 958 971 161 188 338 508 628 843 974 113 178 231 398 634 854 978 403 496 568 592 709 720 1 103 412 427 525 553 786 918 33 220 496 538 674 922 325 727 794 63 107 131 222 266 332 432 468 612 871 898 55 68 723 814 854 869 70 267 293 431 538 582 788 802 11 52478 925 210 252 308 451 583 10 131 184 249 287 438 452 490 681 131 175 401 536 596 608 698 942 80 145 725 813 47 69 84 123 177 215 310 527 681 826 862 876 92 377 392 502 541 622 702 929 992 282 317 329 365 621 35 72 96 159487 504 621 692 735 765 775 789 871 919 162 221 591 683 698 759 835 934 946 29 79 323 887 943 238 506 520 722 793 88 126 288 380 673 689 719 799 863 915 954 52 133 146 295 359 370 432 800 42 270 314 569 976 221 258 294 710 758 23 205 370 408 422 486 525 787 801 914 78 124 136 148 194 220 270 376 477 611 693 854 237 453 764 909 5 81 410 478 491 656 705 280 348 429 512 613 826 873 207 352 606 684 965 114 389 413 457 469 530 557 677 734 786 865 934 987 1 193 221 263 318 384 470 527 731 829 886 2 212 239 621 700 724 65 118 144 188 380 465 306 510 614 628 776 817 845 902 943 986 95 198 252 374 401 458 570 708 750 765 117 169 546 744 757 799 867 880 893 970 232 245 276 377 450 557 601 677 876 918 0 64 151 288 332 384 448 583 623 694 897 975 32 46 89 101 185 224 295 307 365 539 569 613 637 803 856 139 179 191 207248 503 628 54 80 227 453 545 759 785 953 984 52 121 171 306 412 424 554 577801 827 861 905 53 125 138 272 288 313 479 523 651 709 904 84 245 385 422 502 606 630 723 748 760 863 876 942 149 165 205 245 319 492 697 723 859 869 933 40 168 328 418 743 915 282 317 675 895 986 363 374 469 657 681 761 792 806 8 121 151 279 317 407 549 611 734 762 818 871 883 44 201 245 883 111 353\r"
     ]
    },
    {
     "name": "stdout",
     "output_type": "stream",
     "text": [
      "stoop 667 485 666 707 831 978 137 158 182 285 600 627 711 17 295 500 527 682 695 776 990 59 130 227 316 517 684 815 889 174 285 298 858 441 563 620 900 89 127 269 520 632 747 812 930 941 37 187 421 568 715 824 837 875 887 995 187 198 280 294 415 540 567 828 316 660 737 883 157 253 390 414 474 645 830 66 102 150 185 210 236 256 267 362 610 751 774 849 922 994 32 73 311 507 720 773 46 594 669 823 861 874 3 31 182 324 423 500 553 26 67 148 602 934 960 345 583 686 226 881 939 78 154 193 408 510 663 692 723 756 798 922 948 962 24 90 215 229 312 397 442 710 734 846 957 983 25 258 272 361 388 481 548 671 755 824 929 158 182 261 307 434 446 592 604 633 722 791 806 831 878 923 935 60 142 154 281 427 705 823 916 939 97 315 341 437 448 459 516 857 868 74 151 511 694 795 32 45 162 364 508 588 732 875 956 157 309 476 625 865 31 82 153 179 312 508 636 649 714 779 112 216 267 417 473 543 596 674 776 897 3 411 423 435 809 871 68 120 505 517 602 827 856 931 943 974 54 103 283 396 502 759 834 848 930 215 277 473 794 897 162 192 278 523 549 905 23 212 437 551 734 759 910 724 980 49 177 284 715 876 154 344 408 448 459 471 657 731 995 7 49 194 321 773 786 46 98 261 413 811 826 898 104 131 253 414 472 686 769 806 80 92 104 216 227 444 496 535 550 671 697 764 69 188 492 534 546 587 659 753 101 508 725 833 79 206 615 636 913 949 101 124 166 301 351 534 559 757 863 876 898 937 975 1 85 111 137 191 303 412 477 841 939 50 114 182 484 650 765 821 834 56 286 299 340 496 567 782 864 92 118 228 285 461 588 628 828 916 109 181 254 299 389 563 577 737 753 66 144 199 372 395 451 603 804 884 975 424 633 789 100 186 417 452 576 766 829 866 893 942 980 5 32 88 194 238 308 390 422 883 289 393 419 653 938 42 81 104 159 215 380 406 550 603 626 693 703 729 864 877 892 188 336 350 707 775 825 907 135 297 351 391 483 539 629 913 23 312 484 495 508 778 29 158 237 346 377 392 420 465 617 742 826 988 67 103 475 501 972 8 199 453 479 628 652 774 906 930 942 86 246 260 335 386 412 483 773 818 843 964 262 272 426 503 633 645 678 748 758 903 50 87 128 293 371 381 436 575 619 774 975 334 356 598 967 104 160 215 248 432 480 524 581 900 930 799 825 865 904 973 331 384 561 694 4 20 167 284 298 364 376 437 508 845 73 101 157 197 239 373 387 426 541 802 934 949 963 76 451 806 25 288 365 390 405 519 558 607 664 703 791 78 147 214 399 462 503 700 935 65 131 242 300 350 428 530 726 975 186 263 307 386 397 468 509 572 750 805 878 945 81 121 280 403 513 537 548 628 641 710 736 841 872 883 102 117 156 185 355 453 559 597 758 41 87 117 618 157 473 577 864 934 44 60 719 62 76 152 164 252 536 577 835 935 972 40 218 233 427 451 517 780 831 842 853 890 927 966 30 148 281 306 394 507 573 588 644 762 775 956 67 629 708 790 812 841 872 927 950 977 1 207 247 381 454 468 776 791 910 42 269 281 385 511 539 675 787 802 818 42 121 205 231 273 330 344 431 518 726 812 134 146 313 340 379 554 566 646 838 210 226 285 317 376 404 420 716 730 880 33 236 299 395 841 964 33 112 140 156 200 781 941 9 81 147 174 216 263 578 731 836 913 938 310 558 586 781 794 807 832 897 908 35 186 214 229 500 528 588 14 161 232 347 528 622 685 725 835 920 70 333 415 473 583 763 788 850 940 988 999 124 262 340 405 455 534 751 855 866 921 961 86 212 405 695 750 851 957 971 48 141 154 164 234 327 395 409 530 557 809 863 943 27 103 148 199 457 481 639 650 661 38 144 234 378 457 522 588 692 703 788 116 293 341 408 573 785 826 937 117 194 272 337 414 453 478 96 215 241 541 812 875 151 239 539 617 679 825 840 867 880 50 130 239 253 331 368 848 562 575 650 842 859 279 340 843 990 184 355 460 472 651 675 701 712 753 808 819 831 919 153 182 194 220 372 463 595 635 808 834 874 991 4 18 142 356 457 604 713 800 841 901 966 91 435 555 894 972 90 142 310 422 632 899 926 942 47 131 159 213 337 422 745 813 926 967 23 39 53 134 188 243 320 379 492 505 572 615 831 927 36 134 273 359 527 668 684 803 273 573 677 692 752 261 320 456 469 497 512 541 581 622 920 19 31 60 184 195 241 347 786 801 912 100 357 399 443 482 626 638 724 858 56 467 662 779 816 826 53 165 194 209 378 434 448 462 476 502 659 234 344 496 510 520 533 583 760 870 881 10 48 134 232 346 357 444 601 626 665 801 814 963 977 33 112 262 702 716 758 868 289 453 548 649 663 850 236 397 434 562 643 710 968 75 205 231 254 268 546 600 668 757 816 960 96 147 273 354 382 463 821 891 19 177 192 202 254 301 468 481 509 521 546 603 614 684 782 825 912 927 969 170 194 215 265 519 571 584 598 793 983 996 37 52 184 211 315 369 409 516 610 681 777 890 920 437 521 558 777 832 877 907 16 262 390 542 568 647 720 763 10 125 165 323 446 645 822 847 898 978 148 229 321 398 551 593 660 672 775 820 856 199 212 251 484 553 969 148 392 404 426 596 647 712 948 79 232 507 520 548 621 633 663 822 956 983 12 42 192 475 486 501 531 650 666 972 414 623 958 235 555 585 674 749 881 900 47 71 142 156 211 549 705 721 87 568 831 946 23 127 154 186 268 376 404 447 678 692 880 992 5 155 288 495 594 669 773 801 829 856 984 201 214 527 541 589 812 910 239 405 446 675 812 849 985 65 153 232 259 744 757 979 22 63 80 91 186 260 286 313 357 677 922 963 34 118 296 398 578 639 708 734 788 174 268 692 716 1 28 66 80 250 345 409 488 617 145 170 297 322 439 506 528 723 864 900 912 111 138 239 336 418 473 680 736 941 270 355 439 526 763 339 466 658 711 755 814 993 88 112 454 467 559 838 963 978 26 53 90 115 196 236 247 402 692 737 820 937 410 941 240 277 320 560 571 634 687 710 19 458 471 497 666 826 880 921 44 249 305 496 508 41 55 292 542 613 809 886 116 281 337 420 434 459 793 864 898 37 96 229595 5 54 233 79 92 343 385 502 110 207 324 981 162 19 716 988 225 274 792 804 937 57 111 124 193 221 250 619 646 726 828 908 951 964 13 148 237 490 854 6 186 243 267 446 473 514 885 96265 404 551 604 830 944 201 569 644 737 24 63 343 817 983 143 269 295 345 418 897 949 992 952 962 130 263 305 517 584 811 860 188 589 880 16 84 109 152 456 526 621 636 869 968 9 310 682163 268 283 343 175 393 464 534 562 789 826 989 340 394 742 798 955 549 561 633 646 671 688 712 32 104 287 637 678 958 183 339 938 244 254 612 1 52 67 150 215 228 371 469 534 58730 58 86 139 422 784 797 45 103 248 289 362 445 777 792 207 219 437 451 478 747 911 967 141 272 654 737 974 29 579 893 940 90 390 529 542 815 852 716 881 930 953 2 15 268 544 667 766 375 413 480 317 331 374 675 714 727 466 508 551 609 622 9 22 34 91 257 336 384 658 406 523 787 832 847 993 145 643 729 229 245 359 369 599 628 917 80 93 230 623 809 273 531 984 66 302 329 403 93 979 126 516 529 628 735 4 71 176 271 437 505 580 744 819 843 854 865 401 414 450 461 629 703 898 97 121 374 411 696 735 846 871 883 201 319 589 983 41 364 487 685 739 836 974 340 730 897 6 45 72 183 518 573 667 117 357 540 750 286 546 955 231 9 33 382 426 591 114 450 530 821 63 115 326 400 426 523 603 683 326 429 438 577 647 947 12 275 461 538 641 387 629 980 199 211 268 280 685 817 866 933 97 286 429 522 755 770 46 98 267 315 420 718 129 142 224 312 378 502 682 720 807 934 949 76 241 651 663 62 73 470 487 589 668 952 989 96 150 445 615 852 41 363 565 836 979 431 783 852 722 934 945 711 775 947 980 992 129 272 331 422 450 634 729 910 986 67 276 512 560 624 713 328 340 352 540 783 932 342 354 533 609 698 381 440 673 869 937 965 57 110 207 243 282 398 478 131 273 348 374 476 551 629 838 850 916 336 441 491 858 29 125 236 440 517 568 640 655 694 720 819 988 76 99 165 470 561 742 757 91 104 164 283 294 639 651 708 155 260 394 476 558 687 748 967 903 437 729 614 932 945 325 637 752 786 669 796 303 436 51 91 171 214 594 621 672 912 386 466 96 614 863 938 118 984 241 595 636 676 835 38 316 448 460 474 502 540 553 590 612 640 809 844 903 929 16 220 521 532 611 668 685 699 777 875 940 106 186 258 367 764 786 144 184 196 208 501 607 649 689 878 903 953 61 109 214 466 635 661 273 714 751 762 796 955 992 67 79 178 824 882 33 62 74 109 182 247 810 928 432 543 97 294 494 650 736 747 845 891 965 981 28 108 134 335 445 616 698 878 906 951 83 97 527 986 109 120 246 256 267 556 662 817 240 368 475 841 918 29 252 420 473 500 659 673 792 11 23 224 278 364 838 998 92 141 369 487 549 641 139 338 820 635 704 802 902 916 160 187 511 568 784 982 92 747 801 678 702 125 186 226 320 411 491 566 71 126 839 852 881 42 297 322 510 644 700 859 2 161 199 240 351 406 597 623 652\r"
     ]
    },
    {
     "name": "stdout",
     "output_type": "stream",
     "text": [
      "shave 999 724 799 849 22 563 751 48 150 258 585 637 747 782 808 881 307 464 505 547 744 841 343 356 611 706 789 627 810 838 961 16 75 726 738 778 435 478 530 597 664 678 850 879 8 39 79 268 411 471 558 829 13 108 226 503 546 186 268 423 488 600 735 886 65 117 416 451 479 662 709 750 871 884 197 424 817 880 922 279 443 526 741 337 351 365 472 527 595 635 233 259 270 408 499 541 569 657 669 716 902 98 168 259 413 424 557 645 722 833 846 858 870 911 25 79 136 225 316 485 600 611 623 711 772 952 992 59 144 446 459 472 544 557 610 625 639 719 789 899 911 34 162 262 349 407 435 506 720 733 818 688 716 760 774 944 161 353 408 421 435 493 625 651 712 725 924 953 144 296 471 569 612 626 715 812 825 7 23 95 290 305 377 457 486 795 822 317 409 422 480 726 752 876 969 22 203 287 453 469 494 630 980 241 283 296 337 513 633 676 704 804 908 938 992 46 206 272 618 675 686 758 772 810 835 935 996 158 181 304 333 364 390 565 578 592 688 43 84 95 234 248 317 329 769 991 103 247 319 372 447 463 492 507 594 663 697 811 855 884 940 246 569 597 607 622 679 734 787 801 884 900 87 115 170 492 517 631 731 857 995 7 251 545 559 638 650 665 678 717 839 950 977 42 55 307 336 467 632 722 749 761 845 932 203 318 363 482 528 622 651 695 720 999 160 253 312 340 350 421 546 694 709 842 857 895 906 980 14 140 154 271 298 339 380 395 440 561 630 736 747 761 791 862 875 8 21 45 98 109 121 134 146 197 225 280 490 530 560 588 602 653 688 782 849 941 957 147 200 233 353 404 488 675 687 703 760 789 803 874 30 44 72 127 140 232 262 322 393 420 435 463 569 677 754 826 880 892 916 954 967 7 213 288 432 582 611 711 6 27 241 292 317 432 756 933 24 253 417 430 538 553 642 662 736 820 5 57 269 291 517 662 676 741 766 914 37 213 279 419 482 541 645 708 720 741 792 840 145 293 568 669 759 828 34 81 357 413 426 552 575 613 627 700 740 788 800 889 982 38 149 296 348 363 433 498 511 566 669 844 926 991 169 181 250 274 351 425 647 688 768 923 966 21 34 153 184 226 284 339 399 500 573 640 774 789 834 962 999 50 109 124 206 395 450 462 528 608 622 800 3 62 441 454 466 495 538 575 616 720 834 942 45 84 374 521 605 620 744 785 827 907 936 7 61 200 249 454 608 635 856 887 76 202 509 677 782 797 826 974 91 199 211 223 501 680 774 860 42 84 97 122 144 241 423 484 607 707 744 757 840 865 934 39 183 509 615 736 761 784 949 219 309 323 424 596 823 834 905 964 35 80 92 106 265 306 356 562 647 783 901 99 126 176 388 524 627 764 807 833 847 193 264 320 432 472 705 760 875 80 409 420 465 490 517 693 751 46 88 295 413 440 497 519 584 623 686 711 764 893 906 23 173 282 295 433 661 706 750 791 850 908 69 83 141 345 405 472 531 593 679 781 846 959 309 352 394 406 421 534 546 559 633 664 765 831 933 945 973 55 71 142 319 504 631 654 722 735 762 801 840 966 989 135 283 299 360 516 638 989 221 448 490 530 651 717 729 866 120 144 221 258 295 596 693 706 766 801 878 938 152 633 646 676 693 918 44 156 242 254 265 300 411 423 503 590 603 648 701 731 932 959 971 9 127 157 258 286 340 370 385 410 436 607 646 659 754 811 855 908\r"
     ]
    },
    {
     "data": {
      "text/html": [
       "<div>\n",
       "<style scoped>\n",
       "    .dataframe tbody tr th:only-of-type {\n",
       "        vertical-align: middle;\n",
       "    }\n",
       "\n",
       "    .dataframe tbody tr th {\n",
       "        vertical-align: top;\n",
       "    }\n",
       "\n",
       "    .dataframe thead th {\n",
       "        text-align: right;\n",
       "    }\n",
       "</style>\n",
       "<table border=\"1\" class=\"dataframe\">\n",
       "  <thead>\n",
       "    <tr style=\"text-align: right;\">\n",
       "      <th></th>\n",
       "      <th>first_guess</th>\n",
       "      <th>number_guesses</th>\n",
       "      <th>answer</th>\n",
       "    </tr>\n",
       "  </thead>\n",
       "  <tbody>\n",
       "    <tr>\n",
       "      <th>0</th>\n",
       "      <td>diems</td>\n",
       "      <td>5</td>\n",
       "      <td>false</td>\n",
       "    </tr>\n",
       "    <tr>\n",
       "      <th>1</th>\n",
       "      <td>thunk</td>\n",
       "      <td>5</td>\n",
       "      <td>false</td>\n",
       "    </tr>\n",
       "    <tr>\n",
       "      <th>2</th>\n",
       "      <td>winos</td>\n",
       "      <td>5</td>\n",
       "      <td>false</td>\n",
       "    </tr>\n",
       "    <tr>\n",
       "      <th>3</th>\n",
       "      <td>robed</td>\n",
       "      <td>3</td>\n",
       "      <td>false</td>\n",
       "    </tr>\n",
       "    <tr>\n",
       "      <th>4</th>\n",
       "      <td>welsh</td>\n",
       "      <td>3</td>\n",
       "      <td>false</td>\n",
       "    </tr>\n",
       "    <tr>\n",
       "      <th>...</th>\n",
       "      <td>...</td>\n",
       "      <td>...</td>\n",
       "      <td>...</td>\n",
       "    </tr>\n",
       "    <tr>\n",
       "      <th>995</th>\n",
       "      <td>xenic</td>\n",
       "      <td>6</td>\n",
       "      <td>shave</td>\n",
       "    </tr>\n",
       "    <tr>\n",
       "      <th>996</th>\n",
       "      <td>erect</td>\n",
       "      <td>5</td>\n",
       "      <td>shave</td>\n",
       "    </tr>\n",
       "    <tr>\n",
       "      <th>997</th>\n",
       "      <td>obied</td>\n",
       "      <td>7</td>\n",
       "      <td>shave</td>\n",
       "    </tr>\n",
       "    <tr>\n",
       "      <th>998</th>\n",
       "      <td>balun</td>\n",
       "      <td>4</td>\n",
       "      <td>shave</td>\n",
       "    </tr>\n",
       "    <tr>\n",
       "      <th>999</th>\n",
       "      <td>cubic</td>\n",
       "      <td>7</td>\n",
       "      <td>shave</td>\n",
       "    </tr>\n",
       "  </tbody>\n",
       "</table>\n",
       "<p>3122700 rows × 3 columns</p>\n",
       "</div>"
      ],
      "text/plain": [
       "    first_guess  number_guesses answer\n",
       "0         diems               5  false\n",
       "1         thunk               5  false\n",
       "2         winos               5  false\n",
       "3         robed               3  false\n",
       "4         welsh               3  false\n",
       "..          ...             ...    ...\n",
       "995       xenic               6  shave\n",
       "996       erect               5  shave\n",
       "997       obied               7  shave\n",
       "998       balun               4  shave\n",
       "999       cubic               7  shave\n",
       "\n",
       "[3122700 rows x 3 columns]"
      ]
     },
     "execution_count": 680,
     "metadata": {},
     "output_type": "execute_result"
    }
   ],
   "source": [
    "n = 1000 #100 iterations for 5000 words takes < 1 hour\n",
    "active_list = total_sol.copy()\n",
    "#active_list = [\"shire\"]\n",
    "\n",
    "counter_list = []\n",
    "for mst_word in active_list[:]:\n",
    "    counter = []\n",
    "\n",
    "    for a in range(n):\n",
    "        print(mst_word, a, end=\"\\r\")\n",
    "        words = total_guess.copy()\n",
    "        answer = mst_word\n",
    "        guess = random.choices(words)[0]\n",
    "        first_guess = guess\n",
    "        cnt = 1\n",
    "        while guess != answer:\n",
    "            score = try_word(guess, answer)\n",
    "            words = word_filter(score, guess, words)\n",
    "            guess = random.choices(words)[0]\n",
    "            cnt += 1\n",
    "        counter.append([first_guess, cnt])\n",
    "    counter_list.append([answer, counter])\n",
    "\n",
    "counter_list\n",
    "df_analysis = pd.DataFrame(counter_list)\n",
    "\n",
    "for idx in df_analysis.loc[:,:].index:\n",
    "    df_temp = df_analysis.loc[idx,:]\n",
    "    df_t = pd.DataFrame(df_temp[1], columns=[\"first_guess\", \"number_guesses\"])\n",
    "    df_t[\"answer\"] = df_temp[0]\n",
    "    df_full = pd.concat([df_full, df_t])\n",
    "df_full\n",
    "\n",
    "#this can now be saved down if desired\n"
   ]
  },
  {
   "cell_type": "code",
   "execution_count": 703,
   "id": "a63ab428",
   "metadata": {},
   "outputs": [
    {
     "data": {
      "text/plain": [
       "(5357700, 3)"
      ]
     },
     "execution_count": 703,
     "metadata": {},
     "output_type": "execute_result"
    }
   ],
   "source": [
    "df_full.to_csv(\"data_first_guess.csv\", index=False)\n",
    "df_full.shape"
   ]
  },
  {
   "cell_type": "code",
   "execution_count": 704,
   "id": "06a4b0c8",
   "metadata": {},
   "outputs": [
    {
     "data": {
      "text/html": [
       "<div>\n",
       "<style scoped>\n",
       "    .dataframe tbody tr th:only-of-type {\n",
       "        vertical-align: middle;\n",
       "    }\n",
       "\n",
       "    .dataframe tbody tr th {\n",
       "        vertical-align: top;\n",
       "    }\n",
       "\n",
       "    .dataframe thead th {\n",
       "        text-align: right;\n",
       "    }\n",
       "</style>\n",
       "<table border=\"1\" class=\"dataframe\">\n",
       "  <thead>\n",
       "    <tr style=\"text-align: right;\">\n",
       "      <th></th>\n",
       "      <th>mean_guesses</th>\n",
       "      <th>std_guesses</th>\n",
       "    </tr>\n",
       "    <tr>\n",
       "      <th>first_guess</th>\n",
       "      <th></th>\n",
       "      <th></th>\n",
       "    </tr>\n",
       "  </thead>\n",
       "  <tbody>\n",
       "    <tr>\n",
       "      <th>carne</th>\n",
       "      <td>4.234043</td>\n",
       "      <td>1.061805</td>\n",
       "    </tr>\n",
       "    <tr>\n",
       "      <th>diest</th>\n",
       "      <td>4.239583</td>\n",
       "      <td>1.158445</td>\n",
       "    </tr>\n",
       "    <tr>\n",
       "      <th>unarc</th>\n",
       "      <td>4.367521</td>\n",
       "      <td>1.126471</td>\n",
       "    </tr>\n",
       "    <tr>\n",
       "      <th>leapt</th>\n",
       "      <td>4.420582</td>\n",
       "      <td>1.196904</td>\n",
       "    </tr>\n",
       "    <tr>\n",
       "      <th>unmap</th>\n",
       "      <td>4.422680</td>\n",
       "      <td>1.281560</td>\n",
       "    </tr>\n",
       "    <tr>\n",
       "      <th>...</th>\n",
       "      <td>...</td>\n",
       "      <td>...</td>\n",
       "    </tr>\n",
       "    <tr>\n",
       "      <th>doody</th>\n",
       "      <td>5.585492</td>\n",
       "      <td>1.357690</td>\n",
       "    </tr>\n",
       "    <tr>\n",
       "      <th>jibba</th>\n",
       "      <td>5.595960</td>\n",
       "      <td>1.459455</td>\n",
       "    </tr>\n",
       "    <tr>\n",
       "      <th>yippy</th>\n",
       "      <td>5.610215</td>\n",
       "      <td>1.420377</td>\n",
       "    </tr>\n",
       "    <tr>\n",
       "      <th>ayaya</th>\n",
       "      <td>5.616798</td>\n",
       "      <td>1.447368</td>\n",
       "    </tr>\n",
       "    <tr>\n",
       "      <th>qajaq</th>\n",
       "      <td>5.716578</td>\n",
       "      <td>1.344193</td>\n",
       "    </tr>\n",
       "  </tbody>\n",
       "</table>\n",
       "<p>13112 rows × 2 columns</p>\n",
       "</div>"
      ],
      "text/plain": [
       "             mean_guesses  std_guesses\n",
       "first_guess                           \n",
       "carne            4.234043     1.061805\n",
       "diest            4.239583     1.158445\n",
       "unarc            4.367521     1.126471\n",
       "leapt            4.420582     1.196904\n",
       "unmap            4.422680     1.281560\n",
       "...                   ...          ...\n",
       "doody            5.585492     1.357690\n",
       "jibba            5.595960     1.459455\n",
       "yippy            5.610215     1.420377\n",
       "ayaya            5.616798     1.447368\n",
       "qajaq            5.716578     1.344193\n",
       "\n",
       "[13112 rows x 2 columns]"
      ]
     },
     "execution_count": 704,
     "metadata": {},
     "output_type": "execute_result"
    }
   ],
   "source": [
    "#previously saved run of all words, 100 per word\n",
    "df_full = pd.read_csv(\"data_first_guess.csv\")\n",
    "df_summary = df_full.groupby(\"first_guess\").mean().sort_values(\"number_guesses\")\n",
    "df_summary.rename(columns={\"number_guesses\":\"mean_guesses\"}, inplace=True)\n",
    "df_summary[\"std_guesses\"] = df_full.groupby(\"first_guess\").std().sort_values(\"number_guesses\")[\"number_guesses\"]\n",
    "df_summary"
   ]
  },
  {
   "cell_type": "code",
   "execution_count": 707,
   "id": "dd27ec9d",
   "metadata": {},
   "outputs": [
    {
     "data": {
      "image/png": "[encoded data removed]",
      "text/plain": [
       "<Figure size 432x288 with 1 Axes>"
      ]
     },
     "metadata": {
      "needs_background": "light"
     },
     "output_type": "display_data"
    }
   ],
   "source": [
    "df_chart = df_summary[\"mean_guesses\"]\n",
    "plt.hist(df_chart, bins=np.arange(4.3,5.5, 0.1))\n",
    "xW = df_full[\"number_guesses\"].mean()\n",
    "xW_sd = df_full[\"number_guesses\"].std()\n",
    "\n",
    "title = \"n = 100, xW = {xW:.2f}, xW sd = {xW_sd:.2f}\"\n",
    "plt.title(title.format(xW = xW, xW_sd = xW_sd))\n",
    "plt.xlabel(\"mean guesses to solution\")\n",
    "plt.ylabel(\"count\");"
   ]
  },
  {
   "cell_type": "code",
   "execution_count": 748,
   "id": "7294345b",
   "metadata": {},
   "outputs": [
    {
     "data": {
      "image/png": "[encoded data removed]",
      "text/plain": [
       "<Figure size 432x288 with 1 Axes>"
      ]
     },
     "metadata": {
      "needs_background": "light"
     },
     "output_type": "display_data"
    }
   ],
   "source": [
    "first_guess = \"smurf\"\n",
    "df_chart = df_full[df_full[\"first_guess\"] == first_guess][\"number_guesses\"]\n",
    "xW = df_full[df_full[\"first_guess\"] == first_guess][\"number_guesses\"].mean()\n",
    "xW_sd = df_full[df_full[\"first_guess\"] == first_guess][\"number_guesses\"].std()\n",
    "\n",
    "\n",
    "plt.hist(df_chart, bins=np.arange(0.5,16.5))\n",
    "title = first_guess + \", n = 100, xW = {xW:.2f}, xW sd = {xW_sd:.2f}\"\n",
    "plt.title(title.format(xW = xW, xW_sd = xW_sd))\n",
    "plt.xlabel(\"guesses to solution\")\n",
    "plt.ylabel(\"count\");"
   ]
  },
  {
   "cell_type": "markdown",
   "id": "1a52e642",
   "metadata": {},
   "source": [
    "Below we compare the distributions for two solutions (using bootstrapping) to see if they are materially different."
   ]
  },
  {
   "cell_type": "code",
   "execution_count": 721,
   "id": "b36a71be",
   "metadata": {
    "scrolled": true
   },
   "outputs": [
    {
     "data": {
      "image/png": "[encoded data removed]",
      "text/plain": [
       "<Figure size 432x288 with 1 Axes>"
      ]
     },
     "metadata": {
      "needs_background": "light"
     },
     "output_type": "display_data"
    }
   ],
   "source": [
    "word_a = \"carne\"\n",
    "word_b = \"salet\"\n",
    "\n",
    "list_a = list(df_full[df_full[\"first_guess\"] == word_a][\"number_guesses\"].values)\n",
    "list_b = list(df_full[df_full[\"first_guess\"] == word_b][\"number_guesses\"].values)\n",
    "\n",
    "list_a_mean = []\n",
    "\n",
    "for i in range(1000):\n",
    "    list_temp = []\n",
    "    for j in range(len(list_a)):\n",
    "        pick = random.choice(list_a)\n",
    "        list_temp.append(pick)\n",
    "    list_a_mean.append(np.array(list_temp).mean())\n",
    "\n",
    "list_b_mean = []\n",
    "for i in range(1000):\n",
    "    list_temp = []\n",
    "    for j in range(len(list_b)):\n",
    "        pick = random.choice(list_b)\n",
    "        list_temp.append(pick)\n",
    "    list_b_mean.append(np.array(list_temp).mean())\n",
    "    \n",
    "\n",
    "xW_a = np.array(list_a_mean).mean()    \n",
    "xW_b = np.array(list_b_mean).mean()\n",
    "xW_a_sd = np.array(list_a_mean).std()    \n",
    "xW_b_sd = np.array(list_b_mean).std()\n",
    "    \n",
    "    \n",
    "plt.hist(list_a_mean, bins=np.arange(3.5,7, 0.1))\n",
    "plt.hist(list_b_mean, bins=np.arange(3.5,7, 0.1))\n",
    "title = \"starting word = \" + word_a + \", \" + word_b + f\", xW = {xW_a:.2f}, {xW_b:.2f}, xW error = {xW_a_sd:.2f}, {xW_b_sd:.2f}\"\n",
    "plt.title(title)\n",
    "plt.xlabel(\"mean guesses to solution\")\n",
    "plt.ylabel(\"count\");"
   ]
  },
  {
   "cell_type": "code",
   "execution_count": null,
   "id": "02ec70eb",
   "metadata": {},
   "outputs": [],
   "source": []
  }
 ],
 "metadata": {
  "kernelspec": {
   "display_name": "Python 3",
   "language": "python",
   "name": "python3"
  },
  "language_info": {
   "codemirror_mode": {
    "name": "ipython",
    "version": 3
   },
   "file_extension": ".py",
   "mimetype": "text/x-python",
   "name": "python",
   "nbconvert_exporter": "python",
   "pygments_lexer": "ipython3",
   "version": "3.8.3"
  }
 },
 "nbformat": 4,
 "nbformat_minor": 5
}
